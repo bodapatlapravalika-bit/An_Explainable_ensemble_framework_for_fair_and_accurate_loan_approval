{
  "cells": [
    {
      "cell_type": "markdown",
      "id": "09045635",
      "metadata": {
        "id": "09045635"
      },
      "source": [
        "# **An Explainable Ensemble Learning Framework for Fair and Accurate Loan Approval**\n",
        "**Objective:** Predict loan approval using advanced features and explain model decisions using SHAP.\n",
        "\n",
        "---"
      ]
    },
    {
      "cell_type": "markdown",
      "id": "2406d060",
      "metadata": {
        "id": "2406d060"
      },
      "source": [
        "## ⚙️ Setup and GPU Check"
      ]
    },
    {
      "cell_type": "code",
      "execution_count": 1,
      "id": "19f0d211",
      "metadata": {
        "colab": {
          "base_uri": "https://localhost:8080/"
        },
        "id": "19f0d211",
        "outputId": "cb9d2e66-bf52-4f47-9917-d0f0e8b3ce16"
      },
      "outputs": [
        {
          "output_type": "stream",
          "name": "stdout",
          "text": [
            "✅ Num GPUs Available: 1\n",
            "Sun Jun 29 14:41:37 2025       \n",
            "+-----------------------------------------------------------------------------------------+\n",
            "| NVIDIA-SMI 550.54.15              Driver Version: 550.54.15      CUDA Version: 12.4     |\n",
            "|-----------------------------------------+------------------------+----------------------+\n",
            "| GPU  Name                 Persistence-M | Bus-Id          Disp.A | Volatile Uncorr. ECC |\n",
            "| Fan  Temp   Perf          Pwr:Usage/Cap |           Memory-Usage | GPU-Util  Compute M. |\n",
            "|                                         |                        |               MIG M. |\n",
            "|=========================================+========================+======================|\n",
            "|   0  NVIDIA A100-SXM4-40GB          Off |   00000000:00:04.0 Off |                    0 |\n",
            "| N/A   30C    P0             44W /  400W |       5MiB /  40960MiB |      0%      Default |\n",
            "|                                         |                        |             Disabled |\n",
            "+-----------------------------------------+------------------------+----------------------+\n",
            "                                                                                         \n",
            "+-----------------------------------------------------------------------------------------+\n",
            "| Processes:                                                                              |\n",
            "|  GPU   GI   CI        PID   Type   Process name                              GPU Memory |\n",
            "|        ID   ID                                                               Usage      |\n",
            "|=========================================================================================|\n",
            "|  No running processes found                                                             |\n",
            "+-----------------------------------------------------------------------------------------+\n"
          ]
        }
      ],
      "source": [
        "import tensorflow as tf\n",
        "print(\"✅ Num GPUs Available:\", len(tf.config.list_physical_devices('GPU')))\n",
        "!nvidia-smi"
      ]
    },
    {
      "cell_type": "markdown",
      "id": "f1b525eb",
      "metadata": {
        "id": "f1b525eb"
      },
      "source": [
        "## 📚 Install & Import Required Libraries"
      ]
    },
    {
      "cell_type": "code",
      "execution_count": 2,
      "id": "dd7b841b",
      "metadata": {
        "colab": {
          "base_uri": "https://localhost:8080/"
        },
        "id": "dd7b841b",
        "outputId": "99f961d6-05e3-41fe-956c-65abf017ee3f"
      },
      "outputs": [
        {
          "output_type": "stream",
          "name": "stdout",
          "text": [
            "\u001b[2K   \u001b[90m━━━━━━━━━━━━━━━━━━━━━━━━━━━━━━━━━━━━━━━━\u001b[0m \u001b[32m99.2/99.2 MB\u001b[0m \u001b[31m25.0 MB/s\u001b[0m eta \u001b[36m0:00:00\u001b[0m\n",
            "\u001b[?25h"
          ]
        }
      ],
      "source": [
        "!pip install -q catboost shap\n",
        "import pandas as pd\n",
        "import numpy as np\n",
        "import seaborn as sns\n",
        "import matplotlib.pyplot as plt\n",
        "from catboost import CatBoostClassifier\n",
        "from sklearn.model_selection import train_test_split\n",
        "from sklearn.metrics import classification_report, roc_auc_score\n",
        "import shap\n",
        "import warnings\n",
        "warnings.filterwarnings('ignore')"
      ]
    },
    {
      "cell_type": "markdown",
      "id": "72c804c2",
      "metadata": {
        "id": "72c804c2"
      },
      "source": [
        "## 📥 Download and Load Dataset"
      ]
    },
    {
      "cell_type": "code",
      "execution_count": 3,
      "id": "d209f068",
      "metadata": {
        "colab": {
          "base_uri": "https://localhost:8080/",
          "height": 160
        },
        "id": "d209f068",
        "outputId": "43bb4ae3-81e8-441b-eafc-0d29a0d0c248"
      },
      "outputs": [
        {
          "output_type": "display_data",
          "data": {
            "text/plain": [
              "<IPython.core.display.HTML object>"
            ],
            "text/html": [
              "\n",
              "     <input type=\"file\" id=\"files-ed14e168-544f-4dcd-b658-0a1bc23ebfcb\" name=\"files[]\" multiple disabled\n",
              "        style=\"border:none\" />\n",
              "     <output id=\"result-ed14e168-544f-4dcd-b658-0a1bc23ebfcb\">\n",
              "      Upload widget is only available when the cell has been executed in the\n",
              "      current browser session. Please rerun this cell to enable.\n",
              "      </output>\n",
              "      <script>// Copyright 2017 Google LLC\n",
              "//\n",
              "// Licensed under the Apache License, Version 2.0 (the \"License\");\n",
              "// you may not use this file except in compliance with the License.\n",
              "// You may obtain a copy of the License at\n",
              "//\n",
              "//      http://www.apache.org/licenses/LICENSE-2.0\n",
              "//\n",
              "// Unless required by applicable law or agreed to in writing, software\n",
              "// distributed under the License is distributed on an \"AS IS\" BASIS,\n",
              "// WITHOUT WARRANTIES OR CONDITIONS OF ANY KIND, either express or implied.\n",
              "// See the License for the specific language governing permissions and\n",
              "// limitations under the License.\n",
              "\n",
              "/**\n",
              " * @fileoverview Helpers for google.colab Python module.\n",
              " */\n",
              "(function(scope) {\n",
              "function span(text, styleAttributes = {}) {\n",
              "  const element = document.createElement('span');\n",
              "  element.textContent = text;\n",
              "  for (const key of Object.keys(styleAttributes)) {\n",
              "    element.style[key] = styleAttributes[key];\n",
              "  }\n",
              "  return element;\n",
              "}\n",
              "\n",
              "// Max number of bytes which will be uploaded at a time.\n",
              "const MAX_PAYLOAD_SIZE = 100 * 1024;\n",
              "\n",
              "function _uploadFiles(inputId, outputId) {\n",
              "  const steps = uploadFilesStep(inputId, outputId);\n",
              "  const outputElement = document.getElementById(outputId);\n",
              "  // Cache steps on the outputElement to make it available for the next call\n",
              "  // to uploadFilesContinue from Python.\n",
              "  outputElement.steps = steps;\n",
              "\n",
              "  return _uploadFilesContinue(outputId);\n",
              "}\n",
              "\n",
              "// This is roughly an async generator (not supported in the browser yet),\n",
              "// where there are multiple asynchronous steps and the Python side is going\n",
              "// to poll for completion of each step.\n",
              "// This uses a Promise to block the python side on completion of each step,\n",
              "// then passes the result of the previous step as the input to the next step.\n",
              "function _uploadFilesContinue(outputId) {\n",
              "  const outputElement = document.getElementById(outputId);\n",
              "  const steps = outputElement.steps;\n",
              "\n",
              "  const next = steps.next(outputElement.lastPromiseValue);\n",
              "  return Promise.resolve(next.value.promise).then((value) => {\n",
              "    // Cache the last promise value to make it available to the next\n",
              "    // step of the generator.\n",
              "    outputElement.lastPromiseValue = value;\n",
              "    return next.value.response;\n",
              "  });\n",
              "}\n",
              "\n",
              "/**\n",
              " * Generator function which is called between each async step of the upload\n",
              " * process.\n",
              " * @param {string} inputId Element ID of the input file picker element.\n",
              " * @param {string} outputId Element ID of the output display.\n",
              " * @return {!Iterable<!Object>} Iterable of next steps.\n",
              " */\n",
              "function* uploadFilesStep(inputId, outputId) {\n",
              "  const inputElement = document.getElementById(inputId);\n",
              "  inputElement.disabled = false;\n",
              "\n",
              "  const outputElement = document.getElementById(outputId);\n",
              "  outputElement.innerHTML = '';\n",
              "\n",
              "  const pickedPromise = new Promise((resolve) => {\n",
              "    inputElement.addEventListener('change', (e) => {\n",
              "      resolve(e.target.files);\n",
              "    });\n",
              "  });\n",
              "\n",
              "  const cancel = document.createElement('button');\n",
              "  inputElement.parentElement.appendChild(cancel);\n",
              "  cancel.textContent = 'Cancel upload';\n",
              "  const cancelPromise = new Promise((resolve) => {\n",
              "    cancel.onclick = () => {\n",
              "      resolve(null);\n",
              "    };\n",
              "  });\n",
              "\n",
              "  // Wait for the user to pick the files.\n",
              "  const files = yield {\n",
              "    promise: Promise.race([pickedPromise, cancelPromise]),\n",
              "    response: {\n",
              "      action: 'starting',\n",
              "    }\n",
              "  };\n",
              "\n",
              "  cancel.remove();\n",
              "\n",
              "  // Disable the input element since further picks are not allowed.\n",
              "  inputElement.disabled = true;\n",
              "\n",
              "  if (!files) {\n",
              "    return {\n",
              "      response: {\n",
              "        action: 'complete',\n",
              "      }\n",
              "    };\n",
              "  }\n",
              "\n",
              "  for (const file of files) {\n",
              "    const li = document.createElement('li');\n",
              "    li.append(span(file.name, {fontWeight: 'bold'}));\n",
              "    li.append(span(\n",
              "        `(${file.type || 'n/a'}) - ${file.size} bytes, ` +\n",
              "        `last modified: ${\n",
              "            file.lastModifiedDate ? file.lastModifiedDate.toLocaleDateString() :\n",
              "                                    'n/a'} - `));\n",
              "    const percent = span('0% done');\n",
              "    li.appendChild(percent);\n",
              "\n",
              "    outputElement.appendChild(li);\n",
              "\n",
              "    const fileDataPromise = new Promise((resolve) => {\n",
              "      const reader = new FileReader();\n",
              "      reader.onload = (e) => {\n",
              "        resolve(e.target.result);\n",
              "      };\n",
              "      reader.readAsArrayBuffer(file);\n",
              "    });\n",
              "    // Wait for the data to be ready.\n",
              "    let fileData = yield {\n",
              "      promise: fileDataPromise,\n",
              "      response: {\n",
              "        action: 'continue',\n",
              "      }\n",
              "    };\n",
              "\n",
              "    // Use a chunked sending to avoid message size limits. See b/62115660.\n",
              "    let position = 0;\n",
              "    do {\n",
              "      const length = Math.min(fileData.byteLength - position, MAX_PAYLOAD_SIZE);\n",
              "      const chunk = new Uint8Array(fileData, position, length);\n",
              "      position += length;\n",
              "\n",
              "      const base64 = btoa(String.fromCharCode.apply(null, chunk));\n",
              "      yield {\n",
              "        response: {\n",
              "          action: 'append',\n",
              "          file: file.name,\n",
              "          data: base64,\n",
              "        },\n",
              "      };\n",
              "\n",
              "      let percentDone = fileData.byteLength === 0 ?\n",
              "          100 :\n",
              "          Math.round((position / fileData.byteLength) * 100);\n",
              "      percent.textContent = `${percentDone}% done`;\n",
              "\n",
              "    } while (position < fileData.byteLength);\n",
              "  }\n",
              "\n",
              "  // All done.\n",
              "  yield {\n",
              "    response: {\n",
              "      action: 'complete',\n",
              "    }\n",
              "  };\n",
              "}\n",
              "\n",
              "scope.google = scope.google || {};\n",
              "scope.google.colab = scope.google.colab || {};\n",
              "scope.google.colab._files = {\n",
              "  _uploadFiles,\n",
              "  _uploadFilesContinue,\n",
              "};\n",
              "})(self);\n",
              "</script> "
            ]
          },
          "metadata": {}
        },
        {
          "output_type": "stream",
          "name": "stdout",
          "text": [
            "Saving kaggle.json to kaggle.json\n",
            "Dataset URL: https://www.kaggle.com/datasets/taweilo/loan-approval-classification-data\n",
            "License(s): apache-2.0\n",
            "Downloading loan-approval-classification-data.zip to /content\n",
            "  0% 0.00/751k [00:00<?, ?B/s]\n",
            "100% 751k/751k [00:00<00:00, 893MB/s]\n"
          ]
        }
      ],
      "source": [
        "!pip install -q kaggle\n",
        "from google.colab import files\n",
        "files.upload()  # Upload kaggle.json here\n",
        "!mkdir -p ~/.kaggle\n",
        "!cp kaggle.json ~/.kaggle/\n",
        "!chmod 600 ~/.kaggle/kaggle.json\n",
        "!kaggle datasets download -d taweilo/loan-approval-classification-data\n",
        "!unzip -q loan-approval-classification-data.zip"
      ]
    },
    {
      "cell_type": "code",
      "execution_count": 4,
      "id": "7e2886f0",
      "metadata": {
        "colab": {
          "base_uri": "https://localhost:8080/",
          "height": 226
        },
        "id": "7e2886f0",
        "outputId": "30ad69c5-16df-4ad4-ce9a-2c8cd93ead93"
      },
      "outputs": [
        {
          "output_type": "execute_result",
          "data": {
            "text/plain": [
              "   person_age person_gender person_education  person_income  person_emp_exp  \\\n",
              "0        22.0        female           Master        71948.0               0   \n",
              "1        21.0        female      High School        12282.0               0   \n",
              "2        25.0        female      High School        12438.0               3   \n",
              "3        23.0        female         Bachelor        79753.0               0   \n",
              "4        24.0          male           Master        66135.0               1   \n",
              "\n",
              "  person_home_ownership  loan_amnt loan_intent  loan_int_rate  \\\n",
              "0                  RENT    35000.0    PERSONAL          16.02   \n",
              "1                   OWN     1000.0   EDUCATION          11.14   \n",
              "2              MORTGAGE     5500.0     MEDICAL          12.87   \n",
              "3                  RENT    35000.0     MEDICAL          15.23   \n",
              "4                  RENT    35000.0     MEDICAL          14.27   \n",
              "\n",
              "   loan_percent_income  cb_person_cred_hist_length  credit_score  \\\n",
              "0                 0.49                         3.0           561   \n",
              "1                 0.08                         2.0           504   \n",
              "2                 0.44                         3.0           635   \n",
              "3                 0.44                         2.0           675   \n",
              "4                 0.53                         4.0           586   \n",
              "\n",
              "  previous_loan_defaults_on_file  loan_status  \n",
              "0                             No            1  \n",
              "1                            Yes            0  \n",
              "2                             No            1  \n",
              "3                             No            1  \n",
              "4                             No            1  "
            ],
            "text/html": [
              "\n",
              "  <div id=\"df-2d569cb5-2185-4690-b5fb-e43850f4ffb5\" class=\"colab-df-container\">\n",
              "    <div>\n",
              "<style scoped>\n",
              "    .dataframe tbody tr th:only-of-type {\n",
              "        vertical-align: middle;\n",
              "    }\n",
              "\n",
              "    .dataframe tbody tr th {\n",
              "        vertical-align: top;\n",
              "    }\n",
              "\n",
              "    .dataframe thead th {\n",
              "        text-align: right;\n",
              "    }\n",
              "</style>\n",
              "<table border=\"1\" class=\"dataframe\">\n",
              "  <thead>\n",
              "    <tr style=\"text-align: right;\">\n",
              "      <th></th>\n",
              "      <th>person_age</th>\n",
              "      <th>person_gender</th>\n",
              "      <th>person_education</th>\n",
              "      <th>person_income</th>\n",
              "      <th>person_emp_exp</th>\n",
              "      <th>person_home_ownership</th>\n",
              "      <th>loan_amnt</th>\n",
              "      <th>loan_intent</th>\n",
              "      <th>loan_int_rate</th>\n",
              "      <th>loan_percent_income</th>\n",
              "      <th>cb_person_cred_hist_length</th>\n",
              "      <th>credit_score</th>\n",
              "      <th>previous_loan_defaults_on_file</th>\n",
              "      <th>loan_status</th>\n",
              "    </tr>\n",
              "  </thead>\n",
              "  <tbody>\n",
              "    <tr>\n",
              "      <th>0</th>\n",
              "      <td>22.0</td>\n",
              "      <td>female</td>\n",
              "      <td>Master</td>\n",
              "      <td>71948.0</td>\n",
              "      <td>0</td>\n",
              "      <td>RENT</td>\n",
              "      <td>35000.0</td>\n",
              "      <td>PERSONAL</td>\n",
              "      <td>16.02</td>\n",
              "      <td>0.49</td>\n",
              "      <td>3.0</td>\n",
              "      <td>561</td>\n",
              "      <td>No</td>\n",
              "      <td>1</td>\n",
              "    </tr>\n",
              "    <tr>\n",
              "      <th>1</th>\n",
              "      <td>21.0</td>\n",
              "      <td>female</td>\n",
              "      <td>High School</td>\n",
              "      <td>12282.0</td>\n",
              "      <td>0</td>\n",
              "      <td>OWN</td>\n",
              "      <td>1000.0</td>\n",
              "      <td>EDUCATION</td>\n",
              "      <td>11.14</td>\n",
              "      <td>0.08</td>\n",
              "      <td>2.0</td>\n",
              "      <td>504</td>\n",
              "      <td>Yes</td>\n",
              "      <td>0</td>\n",
              "    </tr>\n",
              "    <tr>\n",
              "      <th>2</th>\n",
              "      <td>25.0</td>\n",
              "      <td>female</td>\n",
              "      <td>High School</td>\n",
              "      <td>12438.0</td>\n",
              "      <td>3</td>\n",
              "      <td>MORTGAGE</td>\n",
              "      <td>5500.0</td>\n",
              "      <td>MEDICAL</td>\n",
              "      <td>12.87</td>\n",
              "      <td>0.44</td>\n",
              "      <td>3.0</td>\n",
              "      <td>635</td>\n",
              "      <td>No</td>\n",
              "      <td>1</td>\n",
              "    </tr>\n",
              "    <tr>\n",
              "      <th>3</th>\n",
              "      <td>23.0</td>\n",
              "      <td>female</td>\n",
              "      <td>Bachelor</td>\n",
              "      <td>79753.0</td>\n",
              "      <td>0</td>\n",
              "      <td>RENT</td>\n",
              "      <td>35000.0</td>\n",
              "      <td>MEDICAL</td>\n",
              "      <td>15.23</td>\n",
              "      <td>0.44</td>\n",
              "      <td>2.0</td>\n",
              "      <td>675</td>\n",
              "      <td>No</td>\n",
              "      <td>1</td>\n",
              "    </tr>\n",
              "    <tr>\n",
              "      <th>4</th>\n",
              "      <td>24.0</td>\n",
              "      <td>male</td>\n",
              "      <td>Master</td>\n",
              "      <td>66135.0</td>\n",
              "      <td>1</td>\n",
              "      <td>RENT</td>\n",
              "      <td>35000.0</td>\n",
              "      <td>MEDICAL</td>\n",
              "      <td>14.27</td>\n",
              "      <td>0.53</td>\n",
              "      <td>4.0</td>\n",
              "      <td>586</td>\n",
              "      <td>No</td>\n",
              "      <td>1</td>\n",
              "    </tr>\n",
              "  </tbody>\n",
              "</table>\n",
              "</div>\n",
              "    <div class=\"colab-df-buttons\">\n",
              "\n",
              "  <div class=\"colab-df-container\">\n",
              "    <button class=\"colab-df-convert\" onclick=\"convertToInteractive('df-2d569cb5-2185-4690-b5fb-e43850f4ffb5')\"\n",
              "            title=\"Convert this dataframe to an interactive table.\"\n",
              "            style=\"display:none;\">\n",
              "\n",
              "  <svg xmlns=\"http://www.w3.org/2000/svg\" height=\"24px\" viewBox=\"0 -960 960 960\">\n",
              "    <path d=\"M120-120v-720h720v720H120Zm60-500h600v-160H180v160Zm220 220h160v-160H400v160Zm0 220h160v-160H400v160ZM180-400h160v-160H180v160Zm440 0h160v-160H620v160ZM180-180h160v-160H180v160Zm440 0h160v-160H620v160Z\"/>\n",
              "  </svg>\n",
              "    </button>\n",
              "\n",
              "  <style>\n",
              "    .colab-df-container {\n",
              "      display:flex;\n",
              "      gap: 12px;\n",
              "    }\n",
              "\n",
              "    .colab-df-convert {\n",
              "      background-color: #E8F0FE;\n",
              "      border: none;\n",
              "      border-radius: 50%;\n",
              "      cursor: pointer;\n",
              "      display: none;\n",
              "      fill: #1967D2;\n",
              "      height: 32px;\n",
              "      padding: 0 0 0 0;\n",
              "      width: 32px;\n",
              "    }\n",
              "\n",
              "    .colab-df-convert:hover {\n",
              "      background-color: #E2EBFA;\n",
              "      box-shadow: 0px 1px 2px rgba(60, 64, 67, 0.3), 0px 1px 3px 1px rgba(60, 64, 67, 0.15);\n",
              "      fill: #174EA6;\n",
              "    }\n",
              "\n",
              "    .colab-df-buttons div {\n",
              "      margin-bottom: 4px;\n",
              "    }\n",
              "\n",
              "    [theme=dark] .colab-df-convert {\n",
              "      background-color: #3B4455;\n",
              "      fill: #D2E3FC;\n",
              "    }\n",
              "\n",
              "    [theme=dark] .colab-df-convert:hover {\n",
              "      background-color: #434B5C;\n",
              "      box-shadow: 0px 1px 3px 1px rgba(0, 0, 0, 0.15);\n",
              "      filter: drop-shadow(0px 1px 2px rgba(0, 0, 0, 0.3));\n",
              "      fill: #FFFFFF;\n",
              "    }\n",
              "  </style>\n",
              "\n",
              "    <script>\n",
              "      const buttonEl =\n",
              "        document.querySelector('#df-2d569cb5-2185-4690-b5fb-e43850f4ffb5 button.colab-df-convert');\n",
              "      buttonEl.style.display =\n",
              "        google.colab.kernel.accessAllowed ? 'block' : 'none';\n",
              "\n",
              "      async function convertToInteractive(key) {\n",
              "        const element = document.querySelector('#df-2d569cb5-2185-4690-b5fb-e43850f4ffb5');\n",
              "        const dataTable =\n",
              "          await google.colab.kernel.invokeFunction('convertToInteractive',\n",
              "                                                    [key], {});\n",
              "        if (!dataTable) return;\n",
              "\n",
              "        const docLinkHtml = 'Like what you see? Visit the ' +\n",
              "          '<a target=\"_blank\" href=https://colab.research.google.com/notebooks/data_table.ipynb>data table notebook</a>'\n",
              "          + ' to learn more about interactive tables.';\n",
              "        element.innerHTML = '';\n",
              "        dataTable['output_type'] = 'display_data';\n",
              "        await google.colab.output.renderOutput(dataTable, element);\n",
              "        const docLink = document.createElement('div');\n",
              "        docLink.innerHTML = docLinkHtml;\n",
              "        element.appendChild(docLink);\n",
              "      }\n",
              "    </script>\n",
              "  </div>\n",
              "\n",
              "\n",
              "    <div id=\"df-918cb67e-ca22-4f28-a924-f40efafe351d\">\n",
              "      <button class=\"colab-df-quickchart\" onclick=\"quickchart('df-918cb67e-ca22-4f28-a924-f40efafe351d')\"\n",
              "                title=\"Suggest charts\"\n",
              "                style=\"display:none;\">\n",
              "\n",
              "<svg xmlns=\"http://www.w3.org/2000/svg\" height=\"24px\"viewBox=\"0 0 24 24\"\n",
              "     width=\"24px\">\n",
              "    <g>\n",
              "        <path d=\"M19 3H5c-1.1 0-2 .9-2 2v14c0 1.1.9 2 2 2h14c1.1 0 2-.9 2-2V5c0-1.1-.9-2-2-2zM9 17H7v-7h2v7zm4 0h-2V7h2v10zm4 0h-2v-4h2v4z\"/>\n",
              "    </g>\n",
              "</svg>\n",
              "      </button>\n",
              "\n",
              "<style>\n",
              "  .colab-df-quickchart {\n",
              "      --bg-color: #E8F0FE;\n",
              "      --fill-color: #1967D2;\n",
              "      --hover-bg-color: #E2EBFA;\n",
              "      --hover-fill-color: #174EA6;\n",
              "      --disabled-fill-color: #AAA;\n",
              "      --disabled-bg-color: #DDD;\n",
              "  }\n",
              "\n",
              "  [theme=dark] .colab-df-quickchart {\n",
              "      --bg-color: #3B4455;\n",
              "      --fill-color: #D2E3FC;\n",
              "      --hover-bg-color: #434B5C;\n",
              "      --hover-fill-color: #FFFFFF;\n",
              "      --disabled-bg-color: #3B4455;\n",
              "      --disabled-fill-color: #666;\n",
              "  }\n",
              "\n",
              "  .colab-df-quickchart {\n",
              "    background-color: var(--bg-color);\n",
              "    border: none;\n",
              "    border-radius: 50%;\n",
              "    cursor: pointer;\n",
              "    display: none;\n",
              "    fill: var(--fill-color);\n",
              "    height: 32px;\n",
              "    padding: 0;\n",
              "    width: 32px;\n",
              "  }\n",
              "\n",
              "  .colab-df-quickchart:hover {\n",
              "    background-color: var(--hover-bg-color);\n",
              "    box-shadow: 0 1px 2px rgba(60, 64, 67, 0.3), 0 1px 3px 1px rgba(60, 64, 67, 0.15);\n",
              "    fill: var(--button-hover-fill-color);\n",
              "  }\n",
              "\n",
              "  .colab-df-quickchart-complete:disabled,\n",
              "  .colab-df-quickchart-complete:disabled:hover {\n",
              "    background-color: var(--disabled-bg-color);\n",
              "    fill: var(--disabled-fill-color);\n",
              "    box-shadow: none;\n",
              "  }\n",
              "\n",
              "  .colab-df-spinner {\n",
              "    border: 2px solid var(--fill-color);\n",
              "    border-color: transparent;\n",
              "    border-bottom-color: var(--fill-color);\n",
              "    animation:\n",
              "      spin 1s steps(1) infinite;\n",
              "  }\n",
              "\n",
              "  @keyframes spin {\n",
              "    0% {\n",
              "      border-color: transparent;\n",
              "      border-bottom-color: var(--fill-color);\n",
              "      border-left-color: var(--fill-color);\n",
              "    }\n",
              "    20% {\n",
              "      border-color: transparent;\n",
              "      border-left-color: var(--fill-color);\n",
              "      border-top-color: var(--fill-color);\n",
              "    }\n",
              "    30% {\n",
              "      border-color: transparent;\n",
              "      border-left-color: var(--fill-color);\n",
              "      border-top-color: var(--fill-color);\n",
              "      border-right-color: var(--fill-color);\n",
              "    }\n",
              "    40% {\n",
              "      border-color: transparent;\n",
              "      border-right-color: var(--fill-color);\n",
              "      border-top-color: var(--fill-color);\n",
              "    }\n",
              "    60% {\n",
              "      border-color: transparent;\n",
              "      border-right-color: var(--fill-color);\n",
              "    }\n",
              "    80% {\n",
              "      border-color: transparent;\n",
              "      border-right-color: var(--fill-color);\n",
              "      border-bottom-color: var(--fill-color);\n",
              "    }\n",
              "    90% {\n",
              "      border-color: transparent;\n",
              "      border-bottom-color: var(--fill-color);\n",
              "    }\n",
              "  }\n",
              "</style>\n",
              "\n",
              "      <script>\n",
              "        async function quickchart(key) {\n",
              "          const quickchartButtonEl =\n",
              "            document.querySelector('#' + key + ' button');\n",
              "          quickchartButtonEl.disabled = true;  // To prevent multiple clicks.\n",
              "          quickchartButtonEl.classList.add('colab-df-spinner');\n",
              "          try {\n",
              "            const charts = await google.colab.kernel.invokeFunction(\n",
              "                'suggestCharts', [key], {});\n",
              "          } catch (error) {\n",
              "            console.error('Error during call to suggestCharts:', error);\n",
              "          }\n",
              "          quickchartButtonEl.classList.remove('colab-df-spinner');\n",
              "          quickchartButtonEl.classList.add('colab-df-quickchart-complete');\n",
              "        }\n",
              "        (() => {\n",
              "          let quickchartButtonEl =\n",
              "            document.querySelector('#df-918cb67e-ca22-4f28-a924-f40efafe351d button');\n",
              "          quickchartButtonEl.style.display =\n",
              "            google.colab.kernel.accessAllowed ? 'block' : 'none';\n",
              "        })();\n",
              "      </script>\n",
              "    </div>\n",
              "\n",
              "    </div>\n",
              "  </div>\n"
            ],
            "application/vnd.google.colaboratory.intrinsic+json": {
              "type": "dataframe",
              "variable_name": "df",
              "summary": "{\n  \"name\": \"df\",\n  \"rows\": 45000,\n  \"fields\": [\n    {\n      \"column\": \"person_age\",\n      \"properties\": {\n        \"dtype\": \"number\",\n        \"std\": 6.045108211348622,\n        \"min\": 20.0,\n        \"max\": 144.0,\n        \"num_unique_values\": 60,\n        \"samples\": [\n          22.0,\n          26.0,\n          53.0\n        ],\n        \"semantic_type\": \"\",\n        \"description\": \"\"\n      }\n    },\n    {\n      \"column\": \"person_gender\",\n      \"properties\": {\n        \"dtype\": \"category\",\n        \"num_unique_values\": 2,\n        \"samples\": [\n          \"male\",\n          \"female\"\n        ],\n        \"semantic_type\": \"\",\n        \"description\": \"\"\n      }\n    },\n    {\n      \"column\": \"person_education\",\n      \"properties\": {\n        \"dtype\": \"category\",\n        \"num_unique_values\": 5,\n        \"samples\": [\n          \"High School\",\n          \"Doctorate\"\n        ],\n        \"semantic_type\": \"\",\n        \"description\": \"\"\n      }\n    },\n    {\n      \"column\": \"person_income\",\n      \"properties\": {\n        \"dtype\": \"number\",\n        \"std\": 80422.49863189556,\n        \"min\": 8000.0,\n        \"max\": 7200766.0,\n        \"num_unique_values\": 33989,\n        \"samples\": [\n          48967.0,\n          31001.0\n        ],\n        \"semantic_type\": \"\",\n        \"description\": \"\"\n      }\n    },\n    {\n      \"column\": \"person_emp_exp\",\n      \"properties\": {\n        \"dtype\": \"number\",\n        \"std\": 6,\n        \"min\": 0,\n        \"max\": 125,\n        \"num_unique_values\": 63,\n        \"samples\": [\n          93,\n          76\n        ],\n        \"semantic_type\": \"\",\n        \"description\": \"\"\n      }\n    },\n    {\n      \"column\": \"person_home_ownership\",\n      \"properties\": {\n        \"dtype\": \"category\",\n        \"num_unique_values\": 4,\n        \"samples\": [\n          \"OWN\",\n          \"OTHER\"\n        ],\n        \"semantic_type\": \"\",\n        \"description\": \"\"\n      }\n    },\n    {\n      \"column\": \"loan_amnt\",\n      \"properties\": {\n        \"dtype\": \"number\",\n        \"std\": 6314.8866905411405,\n        \"min\": 500.0,\n        \"max\": 35000.0,\n        \"num_unique_values\": 4483,\n        \"samples\": [\n          5800.0,\n          28338.0\n        ],\n        \"semantic_type\": \"\",\n        \"description\": \"\"\n      }\n    },\n    {\n      \"column\": \"loan_intent\",\n      \"properties\": {\n        \"dtype\": \"category\",\n        \"num_unique_values\": 6,\n        \"samples\": [\n          \"PERSONAL\",\n          \"EDUCATION\"\n        ],\n        \"semantic_type\": \"\",\n        \"description\": \"\"\n      }\n    },\n    {\n      \"column\": \"loan_int_rate\",\n      \"properties\": {\n        \"dtype\": \"number\",\n        \"std\": 2.9788082802254734,\n        \"min\": 5.42,\n        \"max\": 20.0,\n        \"num_unique_values\": 1302,\n        \"samples\": [\n          15.0,\n          13.45\n        ],\n        \"semantic_type\": \"\",\n        \"description\": \"\"\n      }\n    },\n    {\n      \"column\": \"loan_percent_income\",\n      \"properties\": {\n        \"dtype\": \"number\",\n        \"std\": 0.08721230801403355,\n        \"min\": 0.0,\n        \"max\": 0.66,\n        \"num_unique_values\": 64,\n        \"samples\": [\n          0.45,\n          0.54\n        ],\n        \"semantic_type\": \"\",\n        \"description\": \"\"\n      }\n    },\n    {\n      \"column\": \"cb_person_cred_hist_length\",\n      \"properties\": {\n        \"dtype\": \"number\",\n        \"std\": 3.8797018451620433,\n        \"min\": 2.0,\n        \"max\": 30.0,\n        \"num_unique_values\": 29,\n        \"samples\": [\n          24.0,\n          25.0\n        ],\n        \"semantic_type\": \"\",\n        \"description\": \"\"\n      }\n    },\n    {\n      \"column\": \"credit_score\",\n      \"properties\": {\n        \"dtype\": \"number\",\n        \"std\": 50,\n        \"min\": 390,\n        \"max\": 850,\n        \"num_unique_values\": 340,\n        \"samples\": [\n          492,\n          484\n        ],\n        \"semantic_type\": \"\",\n        \"description\": \"\"\n      }\n    },\n    {\n      \"column\": \"previous_loan_defaults_on_file\",\n      \"properties\": {\n        \"dtype\": \"category\",\n        \"num_unique_values\": 2,\n        \"samples\": [\n          \"Yes\",\n          \"No\"\n        ],\n        \"semantic_type\": \"\",\n        \"description\": \"\"\n      }\n    },\n    {\n      \"column\": \"loan_status\",\n      \"properties\": {\n        \"dtype\": \"number\",\n        \"std\": 0,\n        \"min\": 0,\n        \"max\": 1,\n        \"num_unique_values\": 2,\n        \"samples\": [\n          0,\n          1\n        ],\n        \"semantic_type\": \"\",\n        \"description\": \"\"\n      }\n    }\n  ]\n}"
            }
          },
          "metadata": {},
          "execution_count": 4
        }
      ],
      "source": [
        "df = pd.read_csv('loan_data.csv')\n",
        "df.head()"
      ]
    },
    {
      "cell_type": "markdown",
      "id": "2e7597c2",
      "metadata": {
        "id": "2e7597c2"
      },
      "source": [
        "## 📊 Exploratory Data Analysis (EDA)"
      ]
    },
    {
      "cell_type": "code",
      "execution_count": 5,
      "id": "90610eaf",
      "metadata": {
        "colab": {
          "base_uri": "https://localhost:8080/",
          "height": 664
        },
        "id": "90610eaf",
        "outputId": "779e78b3-e9f1-4e0b-b6ac-9b321dc5698b"
      },
      "outputs": [
        {
          "output_type": "stream",
          "name": "stdout",
          "text": [
            "<class 'pandas.core.frame.DataFrame'>\n",
            "RangeIndex: 45000 entries, 0 to 44999\n",
            "Data columns (total 14 columns):\n",
            " #   Column                          Non-Null Count  Dtype  \n",
            "---  ------                          --------------  -----  \n",
            " 0   person_age                      45000 non-null  float64\n",
            " 1   person_gender                   45000 non-null  object \n",
            " 2   person_education                45000 non-null  object \n",
            " 3   person_income                   45000 non-null  float64\n",
            " 4   person_emp_exp                  45000 non-null  int64  \n",
            " 5   person_home_ownership           45000 non-null  object \n",
            " 6   loan_amnt                       45000 non-null  float64\n",
            " 7   loan_intent                     45000 non-null  object \n",
            " 8   loan_int_rate                   45000 non-null  float64\n",
            " 9   loan_percent_income             45000 non-null  float64\n",
            " 10  cb_person_cred_hist_length      45000 non-null  float64\n",
            " 11  credit_score                    45000 non-null  int64  \n",
            " 12  previous_loan_defaults_on_file  45000 non-null  object \n",
            " 13  loan_status                     45000 non-null  int64  \n",
            "dtypes: float64(6), int64(3), object(5)\n",
            "memory usage: 4.8+ MB\n"
          ]
        },
        {
          "output_type": "execute_result",
          "data": {
            "text/plain": [
              "         person_age  person_income  person_emp_exp     loan_amnt  \\\n",
              "count  45000.000000   4.500000e+04    45000.000000  45000.000000   \n",
              "mean      27.764178   8.031905e+04        5.410333   9583.157556   \n",
              "std        6.045108   8.042250e+04        6.063532   6314.886691   \n",
              "min       20.000000   8.000000e+03        0.000000    500.000000   \n",
              "25%       24.000000   4.720400e+04        1.000000   5000.000000   \n",
              "50%       26.000000   6.704800e+04        4.000000   8000.000000   \n",
              "75%       30.000000   9.578925e+04        8.000000  12237.250000   \n",
              "max      144.000000   7.200766e+06      125.000000  35000.000000   \n",
              "\n",
              "       loan_int_rate  loan_percent_income  cb_person_cred_hist_length  \\\n",
              "count   45000.000000         45000.000000                45000.000000   \n",
              "mean       11.006606             0.139725                    5.867489   \n",
              "std         2.978808             0.087212                    3.879702   \n",
              "min         5.420000             0.000000                    2.000000   \n",
              "25%         8.590000             0.070000                    3.000000   \n",
              "50%        11.010000             0.120000                    4.000000   \n",
              "75%        12.990000             0.190000                    8.000000   \n",
              "max        20.000000             0.660000                   30.000000   \n",
              "\n",
              "       credit_score   loan_status  \n",
              "count  45000.000000  45000.000000  \n",
              "mean     632.608756      0.222222  \n",
              "std       50.435865      0.415744  \n",
              "min      390.000000      0.000000  \n",
              "25%      601.000000      0.000000  \n",
              "50%      640.000000      0.000000  \n",
              "75%      670.000000      0.000000  \n",
              "max      850.000000      1.000000  "
            ],
            "text/html": [
              "\n",
              "  <div id=\"df-b07a7273-ed13-4848-990b-9e88a9ff3217\" class=\"colab-df-container\">\n",
              "    <div>\n",
              "<style scoped>\n",
              "    .dataframe tbody tr th:only-of-type {\n",
              "        vertical-align: middle;\n",
              "    }\n",
              "\n",
              "    .dataframe tbody tr th {\n",
              "        vertical-align: top;\n",
              "    }\n",
              "\n",
              "    .dataframe thead th {\n",
              "        text-align: right;\n",
              "    }\n",
              "</style>\n",
              "<table border=\"1\" class=\"dataframe\">\n",
              "  <thead>\n",
              "    <tr style=\"text-align: right;\">\n",
              "      <th></th>\n",
              "      <th>person_age</th>\n",
              "      <th>person_income</th>\n",
              "      <th>person_emp_exp</th>\n",
              "      <th>loan_amnt</th>\n",
              "      <th>loan_int_rate</th>\n",
              "      <th>loan_percent_income</th>\n",
              "      <th>cb_person_cred_hist_length</th>\n",
              "      <th>credit_score</th>\n",
              "      <th>loan_status</th>\n",
              "    </tr>\n",
              "  </thead>\n",
              "  <tbody>\n",
              "    <tr>\n",
              "      <th>count</th>\n",
              "      <td>45000.000000</td>\n",
              "      <td>4.500000e+04</td>\n",
              "      <td>45000.000000</td>\n",
              "      <td>45000.000000</td>\n",
              "      <td>45000.000000</td>\n",
              "      <td>45000.000000</td>\n",
              "      <td>45000.000000</td>\n",
              "      <td>45000.000000</td>\n",
              "      <td>45000.000000</td>\n",
              "    </tr>\n",
              "    <tr>\n",
              "      <th>mean</th>\n",
              "      <td>27.764178</td>\n",
              "      <td>8.031905e+04</td>\n",
              "      <td>5.410333</td>\n",
              "      <td>9583.157556</td>\n",
              "      <td>11.006606</td>\n",
              "      <td>0.139725</td>\n",
              "      <td>5.867489</td>\n",
              "      <td>632.608756</td>\n",
              "      <td>0.222222</td>\n",
              "    </tr>\n",
              "    <tr>\n",
              "      <th>std</th>\n",
              "      <td>6.045108</td>\n",
              "      <td>8.042250e+04</td>\n",
              "      <td>6.063532</td>\n",
              "      <td>6314.886691</td>\n",
              "      <td>2.978808</td>\n",
              "      <td>0.087212</td>\n",
              "      <td>3.879702</td>\n",
              "      <td>50.435865</td>\n",
              "      <td>0.415744</td>\n",
              "    </tr>\n",
              "    <tr>\n",
              "      <th>min</th>\n",
              "      <td>20.000000</td>\n",
              "      <td>8.000000e+03</td>\n",
              "      <td>0.000000</td>\n",
              "      <td>500.000000</td>\n",
              "      <td>5.420000</td>\n",
              "      <td>0.000000</td>\n",
              "      <td>2.000000</td>\n",
              "      <td>390.000000</td>\n",
              "      <td>0.000000</td>\n",
              "    </tr>\n",
              "    <tr>\n",
              "      <th>25%</th>\n",
              "      <td>24.000000</td>\n",
              "      <td>4.720400e+04</td>\n",
              "      <td>1.000000</td>\n",
              "      <td>5000.000000</td>\n",
              "      <td>8.590000</td>\n",
              "      <td>0.070000</td>\n",
              "      <td>3.000000</td>\n",
              "      <td>601.000000</td>\n",
              "      <td>0.000000</td>\n",
              "    </tr>\n",
              "    <tr>\n",
              "      <th>50%</th>\n",
              "      <td>26.000000</td>\n",
              "      <td>6.704800e+04</td>\n",
              "      <td>4.000000</td>\n",
              "      <td>8000.000000</td>\n",
              "      <td>11.010000</td>\n",
              "      <td>0.120000</td>\n",
              "      <td>4.000000</td>\n",
              "      <td>640.000000</td>\n",
              "      <td>0.000000</td>\n",
              "    </tr>\n",
              "    <tr>\n",
              "      <th>75%</th>\n",
              "      <td>30.000000</td>\n",
              "      <td>9.578925e+04</td>\n",
              "      <td>8.000000</td>\n",
              "      <td>12237.250000</td>\n",
              "      <td>12.990000</td>\n",
              "      <td>0.190000</td>\n",
              "      <td>8.000000</td>\n",
              "      <td>670.000000</td>\n",
              "      <td>0.000000</td>\n",
              "    </tr>\n",
              "    <tr>\n",
              "      <th>max</th>\n",
              "      <td>144.000000</td>\n",
              "      <td>7.200766e+06</td>\n",
              "      <td>125.000000</td>\n",
              "      <td>35000.000000</td>\n",
              "      <td>20.000000</td>\n",
              "      <td>0.660000</td>\n",
              "      <td>30.000000</td>\n",
              "      <td>850.000000</td>\n",
              "      <td>1.000000</td>\n",
              "    </tr>\n",
              "  </tbody>\n",
              "</table>\n",
              "</div>\n",
              "    <div class=\"colab-df-buttons\">\n",
              "\n",
              "  <div class=\"colab-df-container\">\n",
              "    <button class=\"colab-df-convert\" onclick=\"convertToInteractive('df-b07a7273-ed13-4848-990b-9e88a9ff3217')\"\n",
              "            title=\"Convert this dataframe to an interactive table.\"\n",
              "            style=\"display:none;\">\n",
              "\n",
              "  <svg xmlns=\"http://www.w3.org/2000/svg\" height=\"24px\" viewBox=\"0 -960 960 960\">\n",
              "    <path d=\"M120-120v-720h720v720H120Zm60-500h600v-160H180v160Zm220 220h160v-160H400v160Zm0 220h160v-160H400v160ZM180-400h160v-160H180v160Zm440 0h160v-160H620v160ZM180-180h160v-160H180v160Zm440 0h160v-160H620v160Z\"/>\n",
              "  </svg>\n",
              "    </button>\n",
              "\n",
              "  <style>\n",
              "    .colab-df-container {\n",
              "      display:flex;\n",
              "      gap: 12px;\n",
              "    }\n",
              "\n",
              "    .colab-df-convert {\n",
              "      background-color: #E8F0FE;\n",
              "      border: none;\n",
              "      border-radius: 50%;\n",
              "      cursor: pointer;\n",
              "      display: none;\n",
              "      fill: #1967D2;\n",
              "      height: 32px;\n",
              "      padding: 0 0 0 0;\n",
              "      width: 32px;\n",
              "    }\n",
              "\n",
              "    .colab-df-convert:hover {\n",
              "      background-color: #E2EBFA;\n",
              "      box-shadow: 0px 1px 2px rgba(60, 64, 67, 0.3), 0px 1px 3px 1px rgba(60, 64, 67, 0.15);\n",
              "      fill: #174EA6;\n",
              "    }\n",
              "\n",
              "    .colab-df-buttons div {\n",
              "      margin-bottom: 4px;\n",
              "    }\n",
              "\n",
              "    [theme=dark] .colab-df-convert {\n",
              "      background-color: #3B4455;\n",
              "      fill: #D2E3FC;\n",
              "    }\n",
              "\n",
              "    [theme=dark] .colab-df-convert:hover {\n",
              "      background-color: #434B5C;\n",
              "      box-shadow: 0px 1px 3px 1px rgba(0, 0, 0, 0.15);\n",
              "      filter: drop-shadow(0px 1px 2px rgba(0, 0, 0, 0.3));\n",
              "      fill: #FFFFFF;\n",
              "    }\n",
              "  </style>\n",
              "\n",
              "    <script>\n",
              "      const buttonEl =\n",
              "        document.querySelector('#df-b07a7273-ed13-4848-990b-9e88a9ff3217 button.colab-df-convert');\n",
              "      buttonEl.style.display =\n",
              "        google.colab.kernel.accessAllowed ? 'block' : 'none';\n",
              "\n",
              "      async function convertToInteractive(key) {\n",
              "        const element = document.querySelector('#df-b07a7273-ed13-4848-990b-9e88a9ff3217');\n",
              "        const dataTable =\n",
              "          await google.colab.kernel.invokeFunction('convertToInteractive',\n",
              "                                                    [key], {});\n",
              "        if (!dataTable) return;\n",
              "\n",
              "        const docLinkHtml = 'Like what you see? Visit the ' +\n",
              "          '<a target=\"_blank\" href=https://colab.research.google.com/notebooks/data_table.ipynb>data table notebook</a>'\n",
              "          + ' to learn more about interactive tables.';\n",
              "        element.innerHTML = '';\n",
              "        dataTable['output_type'] = 'display_data';\n",
              "        await google.colab.output.renderOutput(dataTable, element);\n",
              "        const docLink = document.createElement('div');\n",
              "        docLink.innerHTML = docLinkHtml;\n",
              "        element.appendChild(docLink);\n",
              "      }\n",
              "    </script>\n",
              "  </div>\n",
              "\n",
              "\n",
              "    <div id=\"df-41cfc488-0a8e-484c-933d-e080a00b9e02\">\n",
              "      <button class=\"colab-df-quickchart\" onclick=\"quickchart('df-41cfc488-0a8e-484c-933d-e080a00b9e02')\"\n",
              "                title=\"Suggest charts\"\n",
              "                style=\"display:none;\">\n",
              "\n",
              "<svg xmlns=\"http://www.w3.org/2000/svg\" height=\"24px\"viewBox=\"0 0 24 24\"\n",
              "     width=\"24px\">\n",
              "    <g>\n",
              "        <path d=\"M19 3H5c-1.1 0-2 .9-2 2v14c0 1.1.9 2 2 2h14c1.1 0 2-.9 2-2V5c0-1.1-.9-2-2-2zM9 17H7v-7h2v7zm4 0h-2V7h2v10zm4 0h-2v-4h2v4z\"/>\n",
              "    </g>\n",
              "</svg>\n",
              "      </button>\n",
              "\n",
              "<style>\n",
              "  .colab-df-quickchart {\n",
              "      --bg-color: #E8F0FE;\n",
              "      --fill-color: #1967D2;\n",
              "      --hover-bg-color: #E2EBFA;\n",
              "      --hover-fill-color: #174EA6;\n",
              "      --disabled-fill-color: #AAA;\n",
              "      --disabled-bg-color: #DDD;\n",
              "  }\n",
              "\n",
              "  [theme=dark] .colab-df-quickchart {\n",
              "      --bg-color: #3B4455;\n",
              "      --fill-color: #D2E3FC;\n",
              "      --hover-bg-color: #434B5C;\n",
              "      --hover-fill-color: #FFFFFF;\n",
              "      --disabled-bg-color: #3B4455;\n",
              "      --disabled-fill-color: #666;\n",
              "  }\n",
              "\n",
              "  .colab-df-quickchart {\n",
              "    background-color: var(--bg-color);\n",
              "    border: none;\n",
              "    border-radius: 50%;\n",
              "    cursor: pointer;\n",
              "    display: none;\n",
              "    fill: var(--fill-color);\n",
              "    height: 32px;\n",
              "    padding: 0;\n",
              "    width: 32px;\n",
              "  }\n",
              "\n",
              "  .colab-df-quickchart:hover {\n",
              "    background-color: var(--hover-bg-color);\n",
              "    box-shadow: 0 1px 2px rgba(60, 64, 67, 0.3), 0 1px 3px 1px rgba(60, 64, 67, 0.15);\n",
              "    fill: var(--button-hover-fill-color);\n",
              "  }\n",
              "\n",
              "  .colab-df-quickchart-complete:disabled,\n",
              "  .colab-df-quickchart-complete:disabled:hover {\n",
              "    background-color: var(--disabled-bg-color);\n",
              "    fill: var(--disabled-fill-color);\n",
              "    box-shadow: none;\n",
              "  }\n",
              "\n",
              "  .colab-df-spinner {\n",
              "    border: 2px solid var(--fill-color);\n",
              "    border-color: transparent;\n",
              "    border-bottom-color: var(--fill-color);\n",
              "    animation:\n",
              "      spin 1s steps(1) infinite;\n",
              "  }\n",
              "\n",
              "  @keyframes spin {\n",
              "    0% {\n",
              "      border-color: transparent;\n",
              "      border-bottom-color: var(--fill-color);\n",
              "      border-left-color: var(--fill-color);\n",
              "    }\n",
              "    20% {\n",
              "      border-color: transparent;\n",
              "      border-left-color: var(--fill-color);\n",
              "      border-top-color: var(--fill-color);\n",
              "    }\n",
              "    30% {\n",
              "      border-color: transparent;\n",
              "      border-left-color: var(--fill-color);\n",
              "      border-top-color: var(--fill-color);\n",
              "      border-right-color: var(--fill-color);\n",
              "    }\n",
              "    40% {\n",
              "      border-color: transparent;\n",
              "      border-right-color: var(--fill-color);\n",
              "      border-top-color: var(--fill-color);\n",
              "    }\n",
              "    60% {\n",
              "      border-color: transparent;\n",
              "      border-right-color: var(--fill-color);\n",
              "    }\n",
              "    80% {\n",
              "      border-color: transparent;\n",
              "      border-right-color: var(--fill-color);\n",
              "      border-bottom-color: var(--fill-color);\n",
              "    }\n",
              "    90% {\n",
              "      border-color: transparent;\n",
              "      border-bottom-color: var(--fill-color);\n",
              "    }\n",
              "  }\n",
              "</style>\n",
              "\n",
              "      <script>\n",
              "        async function quickchart(key) {\n",
              "          const quickchartButtonEl =\n",
              "            document.querySelector('#' + key + ' button');\n",
              "          quickchartButtonEl.disabled = true;  // To prevent multiple clicks.\n",
              "          quickchartButtonEl.classList.add('colab-df-spinner');\n",
              "          try {\n",
              "            const charts = await google.colab.kernel.invokeFunction(\n",
              "                'suggestCharts', [key], {});\n",
              "          } catch (error) {\n",
              "            console.error('Error during call to suggestCharts:', error);\n",
              "          }\n",
              "          quickchartButtonEl.classList.remove('colab-df-spinner');\n",
              "          quickchartButtonEl.classList.add('colab-df-quickchart-complete');\n",
              "        }\n",
              "        (() => {\n",
              "          let quickchartButtonEl =\n",
              "            document.querySelector('#df-41cfc488-0a8e-484c-933d-e080a00b9e02 button');\n",
              "          quickchartButtonEl.style.display =\n",
              "            google.colab.kernel.accessAllowed ? 'block' : 'none';\n",
              "        })();\n",
              "      </script>\n",
              "    </div>\n",
              "\n",
              "    </div>\n",
              "  </div>\n"
            ],
            "application/vnd.google.colaboratory.intrinsic+json": {
              "type": "dataframe",
              "summary": "{\n  \"name\": \"df\",\n  \"rows\": 8,\n  \"fields\": [\n    {\n      \"column\": \"person_age\",\n      \"properties\": {\n        \"dtype\": \"number\",\n        \"std\": 15895.92981900713,\n        \"min\": 6.045108211348622,\n        \"max\": 45000.0,\n        \"num_unique_values\": 8,\n        \"samples\": [\n          27.76417777777778,\n          26.0,\n          45000.0\n        ],\n        \"semantic_type\": \"\",\n        \"description\": \"\"\n      }\n    },\n    {\n      \"column\": \"person_income\",\n      \"properties\": {\n        \"dtype\": \"number\",\n        \"std\": 2524599.5465676305,\n        \"min\": 8000.0,\n        \"max\": 7200766.0,\n        \"num_unique_values\": 8,\n        \"samples\": [\n          80319.05322222222,\n          67048.0,\n          45000.0\n        ],\n        \"semantic_type\": \"\",\n        \"description\": \"\"\n      }\n    },\n    {\n      \"column\": \"person_emp_exp\",\n      \"properties\": {\n        \"dtype\": \"number\",\n        \"std\": 15902.409513060764,\n        \"min\": 0.0,\n        \"max\": 45000.0,\n        \"num_unique_values\": 8,\n        \"samples\": [\n          5.410333333333333,\n          4.0,\n          45000.0\n        ],\n        \"semantic_type\": \"\",\n        \"description\": \"\"\n      }\n    },\n    {\n      \"column\": \"loan_amnt\",\n      \"properties\": {\n        \"dtype\": \"number\",\n        \"std\": 15907.41915594131,\n        \"min\": 500.0,\n        \"max\": 45000.0,\n        \"num_unique_values\": 8,\n        \"samples\": [\n          9583.157555555556,\n          8000.0,\n          45000.0\n        ],\n        \"semantic_type\": \"\",\n        \"description\": \"\"\n      }\n    },\n    {\n      \"column\": \"loan_int_rate\",\n      \"properties\": {\n        \"dtype\": \"number\",\n        \"std\": 15906.267079441906,\n        \"min\": 2.9788082802254734,\n        \"max\": 45000.0,\n        \"num_unique_values\": 8,\n        \"samples\": [\n          11.006605777777779,\n          11.01,\n          45000.0\n        ],\n        \"semantic_type\": \"\",\n        \"description\": \"\"\n      }\n    },\n    {\n      \"column\": \"loan_percent_income\",\n      \"properties\": {\n        \"dtype\": \"number\",\n        \"std\": 15909.83858800236,\n        \"min\": 0.0,\n        \"max\": 45000.0,\n        \"num_unique_values\": 8,\n        \"samples\": [\n          0.1397248888888889,\n          0.12,\n          45000.0\n        ],\n        \"semantic_type\": \"\",\n        \"description\": \"\"\n      }\n    },\n    {\n      \"column\": \"cb_person_cred_hist_length\",\n      \"properties\": {\n        \"dtype\": \"number\",\n        \"std\": 15907.039026136903,\n        \"min\": 2.0,\n        \"max\": 45000.0,\n        \"num_unique_values\": 8,\n        \"samples\": [\n          5.8674888888888885,\n          4.0,\n          45000.0\n        ],\n        \"semantic_type\": \"\",\n        \"description\": \"\"\n      }\n    },\n    {\n      \"column\": \"credit_score\",\n      \"properties\": {\n        \"dtype\": \"number\",\n        \"std\": 15718.058537708299,\n        \"min\": 50.435865000741984,\n        \"max\": 45000.0,\n        \"num_unique_values\": 8,\n        \"samples\": [\n          632.6087555555556,\n          640.0,\n          45000.0\n        ],\n        \"semantic_type\": \"\",\n        \"description\": \"\"\n      }\n    },\n    {\n      \"column\": \"loan_status\",\n      \"properties\": {\n        \"dtype\": \"number\",\n        \"std\": 15909.819850659878,\n        \"min\": 0.0,\n        \"max\": 45000.0,\n        \"num_unique_values\": 5,\n        \"samples\": [\n          0.2222222222222222,\n          1.0,\n          0.41574432904844355\n        ],\n        \"semantic_type\": \"\",\n        \"description\": \"\"\n      }\n    }\n  ]\n}"
            }
          },
          "metadata": {},
          "execution_count": 5
        }
      ],
      "source": [
        "# Overview\n",
        "df.info()\n",
        "df.describe()"
      ]
    },
    {
      "cell_type": "code",
      "execution_count": 6,
      "id": "ae7d9e8b",
      "metadata": {
        "colab": {
          "base_uri": "https://localhost:8080/",
          "height": 472
        },
        "id": "ae7d9e8b",
        "outputId": "6873dd19-5881-4c7c-fbaf-22666c507dc3"
      },
      "outputs": [
        {
          "output_type": "display_data",
          "data": {
            "text/plain": [
              "<Figure size 640x480 with 1 Axes>"
            ],
            "image/png": "[encoded data removed]"
          },
          "metadata": {}
        }
      ],
      "source": [
        "# Class Distribution\n",
        "sns.countplot(x='loan_status', data=df)\n",
        "plt.title('Loan Status Distribution')\n",
        "plt.show()"
      ]
    },
    {
      "cell_type": "code",
      "execution_count": 8,
      "id": "bf16ac46",
      "metadata": {
        "colab": {
          "base_uri": "https://localhost:8080/",
          "height": 877
        },
        "id": "bf16ac46",
        "outputId": "ed2ccfa3-f39e-4f11-8edc-090016f7b148"
      },
      "outputs": [
        {
          "output_type": "display_data",
          "data": {
            "text/plain": [
              "<Figure size 1200x800 with 2 Axes>"
            ],
            "image/png": "[encoded data removed]"
          },
          "metadata": {}
        }
      ],
      "source": [
        "# Correlation Heatmap (numeric features only)\n",
        "plt.figure(figsize=(12, 8))\n",
        "numeric_df = df.select_dtypes(include=['int64', 'float64'])  # Select only numerical columns\n",
        "sns.heatmap(numeric_df.corr(), annot=True, cmap='coolwarm')\n",
        "plt.title('Feature Correlation Heatmap')\n",
        "plt.show()\n"
      ]
    },
    {
      "cell_type": "code",
      "execution_count": 9,
      "id": "d8270227",
      "metadata": {
        "colab": {
          "base_uri": "https://localhost:8080/",
          "height": 897
        },
        "id": "d8270227",
        "outputId": "cbf7ec97-f654-431d-9b7e-b49aae343cad"
      },
      "outputs": [
        {
          "output_type": "display_data",
          "data": {
            "text/plain": [
              "<Figure size 1600x1000 with 9 Axes>"
            ],
            "image/png": "[encoded data removed]"
          },
          "metadata": {}
        }
      ],
      "source": [
        "# Distribution of Numerical Features\n",
        "df.hist(bins=30, figsize=(16, 10), color='skyblue')\n",
        "plt.tight_layout()\n",
        "plt.show()"
      ]
    },
    {
      "cell_type": "markdown",
      "id": "d3db3706",
      "metadata": {
        "id": "d3db3706"
      },
      "source": [
        "## 🧹 Data Preprocessing"
      ]
    },
    {
      "cell_type": "code",
      "execution_count": 10,
      "id": "5f9a4c3f",
      "metadata": {
        "id": "5f9a4c3f"
      },
      "outputs": [],
      "source": [
        "X = df.drop('loan_status', axis=1)\n",
        "y = df['loan_status']\n",
        "\n",
        "cat_features = X.select_dtypes(include='object').columns.tolist()\n",
        "X[cat_features] = X[cat_features].astype('category')\n",
        "\n",
        "X_train, X_test, y_train, y_test = train_test_split(X, y, test_size=0.2, random_state=42)"
      ]
    },
    {
      "cell_type": "markdown",
      "id": "abb8b10b",
      "metadata": {
        "id": "abb8b10b"
      },
      "source": [
        "## 🤖 Train CatBoost Model"
      ]
    },
    {
      "cell_type": "code",
      "execution_count": 11,
      "id": "b8ac482c",
      "metadata": {
        "colab": {
          "base_uri": "https://localhost:8080/",
          "height": 225,
          "referenced_widgets": [
            "9e3c883a5a894ceebb409344cfc3e774"
          ]
        },
        "id": "b8ac482c",
        "outputId": "67c7d211-10dc-48e4-f7f0-0ca314a178a8"
      },
      "outputs": [
        {
          "output_type": "display_data",
          "data": {
            "text/plain": [
              "MetricVisualizer(layout=Layout(align_self='stretch', height='500px'))"
            ],
            "application/vnd.jupyter.widget-view+json": {
              "version_major": 2,
              "version_minor": 0,
              "model_id": "9e3c883a5a894ceebb409344cfc3e774"
            }
          },
          "metadata": {}
        },
        {
          "output_type": "stream",
          "name": "stdout",
          "text": [
            "0:\ttest: 0.9493133\tbest: 0.9493133 (0)\ttotal: 65ms\tremaining: 32.5s\n",
            "100:\ttest: 0.9706750\tbest: 0.9706750 (100)\ttotal: 1.81s\tremaining: 7.15s\n",
            "200:\ttest: 0.9722683\tbest: 0.9722683 (200)\ttotal: 3.33s\tremaining: 4.95s\n",
            "300:\ttest: 0.9738548\tbest: 0.9738548 (300)\ttotal: 4.81s\tremaining: 3.18s\n",
            "400:\ttest: 0.9748437\tbest: 0.9748437 (400)\ttotal: 6.32s\tremaining: 1.56s\n",
            "499:\ttest: 0.9758053\tbest: 0.9758157 (495)\ttotal: 7.79s\tremaining: 0us\n",
            "\n",
            "bestTest = 0.9758156998\n",
            "bestIteration = 495\n",
            "\n",
            "Shrink model to first 496 iterations.\n"
          ]
        },
        {
          "output_type": "execute_result",
          "data": {
            "text/plain": [
              "<catboost.core.CatBoostClassifier at 0x79ecf5eaa690>"
            ]
          },
          "metadata": {},
          "execution_count": 11
        }
      ],
      "source": [
        "model = CatBoostClassifier(\n",
        "    iterations=500,\n",
        "    learning_rate=0.05,\n",
        "    depth=6,\n",
        "    eval_metric='AUC',\n",
        "    loss_function='Logloss',\n",
        "    cat_features=cat_features,\n",
        "    verbose=100\n",
        ")\n",
        "model.fit(X_train, y_train, eval_set=(X_test, y_test), plot=True)"
      ]
    },
    {
      "cell_type": "markdown",
      "id": "2a2b322a",
      "metadata": {
        "id": "2a2b322a"
      },
      "source": [
        "## 📈 Evaluation Metrics"
      ]
    },
    {
      "cell_type": "code",
      "execution_count": 12,
      "id": "30e47609",
      "metadata": {
        "colab": {
          "base_uri": "https://localhost:8080/"
        },
        "id": "30e47609",
        "outputId": "d0587c5a-b8cc-4b88-fe3d-033a5d94eeb5"
      },
      "outputs": [
        {
          "output_type": "stream",
          "name": "stdout",
          "text": [
            "              precision    recall  f1-score   support\n",
            "\n",
            "           0       0.94      0.97      0.96      6990\n",
            "           1       0.89      0.78      0.83      2010\n",
            "\n",
            "    accuracy                           0.93      9000\n",
            "   macro avg       0.92      0.88      0.89      9000\n",
            "weighted avg       0.93      0.93      0.93      9000\n",
            "\n",
            "ROC-AUC Score: 0.9758\n"
          ]
        }
      ],
      "source": [
        "y_pred = model.predict(X_test)\n",
        "print(classification_report(y_test, y_pred))\n",
        "roc_auc = roc_auc_score(y_test, model.predict_proba(X_test)[:, 1])\n",
        "print(f\"ROC-AUC Score: {roc_auc:.4f}\")"
      ]
    },
    {
      "cell_type": "markdown",
      "id": "10ba20f8",
      "metadata": {
        "id": "10ba20f8"
      },
      "source": [
        "## 🔍 SHAP Explainability"
      ]
    },
    {
      "cell_type": "code",
      "execution_count": 13,
      "id": "960c15b3",
      "metadata": {
        "colab": {
          "base_uri": "https://localhost:8080/",
          "height": 676
        },
        "id": "960c15b3",
        "outputId": "f7f253f4-8882-41b8-ab2e-bfab46978782"
      },
      "outputs": [
        {
          "output_type": "display_data",
          "data": {
            "text/plain": [
              "<Figure size 800x670 with 1 Axes>"
            ],
            "image/png": "[encoded data removed]"
          },
          "metadata": {}
        }
      ],
      "source": [
        "explainer = shap.TreeExplainer(model)\n",
        "shap_values = explainer.shap_values(X_test)\n",
        "shap.summary_plot(shap_values, X_test, plot_type='bar')"
      ]
    },
    {
      "cell_type": "markdown",
      "id": "49bd6d9f",
      "metadata": {
        "id": "49bd6d9f"
      },
      "source": [
        "Thank You"
      ]
    }
  ],
  "metadata": {
    "colab": {
      "provenance": [],
      "machine_shape": "hm",
      "gpuType": "A100"
    },
    "accelerator": "GPU",
    "language_info": {
      "name": "python"
    },
    "kernelspec": {
      "name": "python3",
      "display_name": "Python 3"
    },
    "widgets": {
      "application/vnd.jupyter.widget-state+json": {
        "9e3c883a5a894ceebb409344cfc3e774": {
          "model_module": "catboost-widget",
          "model_name": "CatboostWidgetModel",
          "model_module_version": "^1.0.0",
          "state": {
            "_dom_classes": [],
            "_model_module": "catboost-widget",
            "_model_module_version": "^1.0.0",
            "_model_name": "CatboostWidgetModel",
            "_view_count": null,
            "_view_module": "catboost-widget",
            "_view_module_version": "^1.0.0",
            "_view_name": "CatboostWidgetView",
            "data": {
              "catboost_info": {
                "path": "catboost_info",
                "name": "catboost_info",
                "content": {
                  "passed_iterations": 499,
                  "total_iterations": 500,
                  "data": {
                    "iterations": [
                      {
                        "learn": [
                          0.5840352049
                        ],
                        "iteration": 0,
                        "passed_time": 0.06504922567,
                        "remaining_time": 32.45956361,
                        "test": [
                          0.9493133047,
                          0.5835201369
                        ]
                      },
                      {
                        "learn": [
                          0.503267755
                        ],
                        "iteration": 1,
                        "passed_time": 0.07830539223,
                        "remaining_time": 19.49804267,
                        "test": [
                          0.9504173339,
                          0.5023844774
                        ]
                      },
                      {
                        "learn": [
                          0.4384590958
                        ],
                        "iteration": 2,
                        "passed_time": 0.09214591355,
                        "remaining_time": 15.26550634,
                        "test": [
                          0.9543862946,
                          0.4374222327
                        ]
                      },
                      {
                        "learn": [
                          0.3873529089
                        ],
                        "iteration": 3,
                        "passed_time": 0.1081593536,
                        "remaining_time": 13.41175984,
                        "test": [
                          0.9568308315,
                          0.3860867943
                        ]
                      },
                      {
                        "learn": [
                          0.3505271961
                        ],
                        "iteration": 4,
                        "passed_time": 0.1220094448,
                        "remaining_time": 12.07893503,
                        "test": [
                          0.9589335511,
                          0.3493729175
                        ]
                      },
                      {
                        "learn": [
                          0.3218794095
                        ],
                        "iteration": 5,
                        "passed_time": 0.1362810077,
                        "remaining_time": 11.22046963,
                        "test": [
                          0.9591582858,
                          0.3207784847
                        ]
                      },
                      {
                        "learn": [
                          0.3003048985
                        ],
                        "iteration": 6,
                        "passed_time": 0.1516051484,
                        "remaining_time": 10.67733403,
                        "test": [
                          0.9591052961,
                          0.2993863329
                        ]
                      },
                      {
                        "learn": [
                          0.2847340104
                        ],
                        "iteration": 7,
                        "passed_time": 0.1665244292,
                        "remaining_time": 10.24125239,
                        "test": [
                          0.9599435583,
                          0.2840446774
                        ]
                      },
                      {
                        "learn": [
                          0.271261719
                        ],
                        "iteration": 8,
                        "passed_time": 0.1839709427,
                        "remaining_time": 10.03663699,
                        "test": [
                          0.9604621029,
                          0.2708031618
                        ]
                      },
                      {
                        "learn": [
                          0.2618692442
                        ],
                        "iteration": 9,
                        "passed_time": 0.1996297868,
                        "remaining_time": 9.781859554,
                        "test": [
                          0.9610361284,
                          0.2616872597
                        ]
                      },
                      {
                        "learn": [
                          0.2534493332
                        ],
                        "iteration": 10,
                        "passed_time": 0.2145236905,
                        "remaining_time": 9.53655315,
                        "test": [
                          0.9615957765,
                          0.2534912753
                        ]
                      },
                      {
                        "learn": [
                          0.2460338822
                        ],
                        "iteration": 11,
                        "passed_time": 0.2306931827,
                        "remaining_time": 9.381522765,
                        "test": [
                          0.9620071317,
                          0.2464072065
                        ]
                      },
                      {
                        "learn": [
                          0.2393304394
                        ],
                        "iteration": 12,
                        "passed_time": 0.2461709057,
                        "remaining_time": 9.221940854,
                        "test": [
                          0.9621730048,
                          0.2398352698
                        ]
                      },
                      {
                        "learn": [
                          0.2336322601
                        ],
                        "iteration": 13,
                        "passed_time": 0.2621679186,
                        "remaining_time": 9.100972033,
                        "test": [
                          0.9624216898,
                          0.2341876667
                        ]
                      },
                      {
                        "learn": [
                          0.2292964894
                        ],
                        "iteration": 14,
                        "passed_time": 0.2781575434,
                        "remaining_time": 8.99376057,
                        "test": [
                          0.9624753913,
                          0.2300411523
                        ]
                      },
                      {
                        "learn": [
                          0.2256926534
                        ],
                        "iteration": 15,
                        "passed_time": 0.2939407637,
                        "remaining_time": 8.891708101,
                        "test": [
                          0.9624114407,
                          0.2266527841
                        ]
                      },
                      {
                        "learn": [
                          0.2223759736
                        ],
                        "iteration": 16,
                        "passed_time": 0.3102710254,
                        "remaining_time": 8.815347368,
                        "test": [
                          0.9628799493,
                          0.2234728242
                        ]
                      },
                      {
                        "learn": [
                          0.2180475325
                        ],
                        "iteration": 17,
                        "passed_time": 0.3279296525,
                        "remaining_time": 8.78122736,
                        "test": [
                          0.9632458238,
                          0.2191740361
                        ]
                      },
                      {
                        "learn": [
                          0.2153614201
                        ],
                        "iteration": 18,
                        "passed_time": 0.3440123382,
                        "remaining_time": 8.708943931,
                        "test": [
                          0.9636513071,
                          0.2165820769
                        ]
                      },
                      {
                        "learn": [
                          0.2130074144
                        ],
                        "iteration": 19,
                        "passed_time": 0.3606538971,
                        "remaining_time": 8.655693531,
                        "test": [
                          0.9640988192,
                          0.2143719097
                        ]
                      },
                      {
                        "learn": [
                          0.2106981303
                        ],
                        "iteration": 20,
                        "passed_time": 0.3771218158,
                        "remaining_time": 8.601969037,
                        "test": [
                          0.9643923444,
                          0.2122361351
                        ]
                      },
                      {
                        "learn": [
                          0.208794817
                        ],
                        "iteration": 21,
                        "passed_time": 0.3951236198,
                        "remaining_time": 8.584958648,
                        "test": [
                          0.9644070776,
                          0.2103846131
                        ]
                      },
                      {
                        "learn": [
                          0.2069292122
                        ],
                        "iteration": 22,
                        "passed_time": 0.415502917,
                        "remaining_time": 8.617169192,
                        "test": [
                          0.9648193581,
                          0.20858271
                        ]
                      },
                      {
                        "learn": [
                          0.2052057764
                        ],
                        "iteration": 23,
                        "passed_time": 0.4330788803,
                        "remaining_time": 8.589397792,
                        "test": [
                          0.9651251254,
                          0.2069941398
                        ]
                      },
                      {
                        "learn": [
                          0.2034928595
                        ],
                        "iteration": 24,
                        "passed_time": 0.4490997993,
                        "remaining_time": 8.532896187,
                        "test": [
                          0.9653014968,
                          0.205320986
                        ]
                      },
                      {
                        "learn": [
                          0.2021985826
                        ],
                        "iteration": 25,
                        "passed_time": 0.4691577703,
                        "remaining_time": 8.553107044,
                        "test": [
                          0.9652401441,
                          0.2043020063
                        ]
                      },
                      {
                        "learn": [
                          0.2009621903
                        ],
                        "iteration": 26,
                        "passed_time": 0.4848356888,
                        "remaining_time": 8.493602993,
                        "test": [
                          0.9654437754,
                          0.203070859
                        ]
                      },
                      {
                        "learn": [
                          0.1996980107
                        ],
                        "iteration": 27,
                        "passed_time": 0.502465138,
                        "remaining_time": 8.470126611,
                        "test": [
                          0.9655865878,
                          0.2018400941
                        ]
                      },
                      {
                        "learn": [
                          0.1985642702
                        ],
                        "iteration": 28,
                        "passed_time": 0.5187730344,
                        "remaining_time": 8.425589628,
                        "test": [
                          0.9658273013,
                          0.2007551747
                        ]
                      },
                      {
                        "learn": [
                          0.1974107598
                        ],
                        "iteration": 29,
                        "passed_time": 0.534562171,
                        "remaining_time": 8.374807346,
                        "test": [
                          0.9658573727,
                          0.1997005308
                        ]
                      },
                      {
                        "learn": [
                          0.1964880051
                        ],
                        "iteration": 30,
                        "passed_time": 0.5499700392,
                        "remaining_time": 8.320514464,
                        "test": [
                          0.9659889394,
                          0.1988312251
                        ]
                      },
                      {
                        "learn": [
                          0.1956024793
                        ],
                        "iteration": 31,
                        "passed_time": 0.5676374425,
                        "remaining_time": 8.301697597,
                        "test": [
                          0.9662254536,
                          0.1980137484
                        ]
                      },
                      {
                        "learn": [
                          0.1947432297
                        ],
                        "iteration": 32,
                        "passed_time": 0.5834173237,
                        "remaining_time": 8.256239096,
                        "test": [
                          0.9663289418,
                          0.1972131698
                        ]
                      },
                      {
                        "learn": [
                          0.1938697641
                        ],
                        "iteration": 33,
                        "passed_time": 0.5996802933,
                        "remaining_time": 8.21914755,
                        "test": [
                          0.9665316479,
                          0.1963723208
                        ]
                      },
                      {
                        "learn": [
                          0.1925188078
                        ],
                        "iteration": 34,
                        "passed_time": 0.6153743326,
                        "remaining_time": 8.175687561,
                        "test": [
                          0.9668080912,
                          0.195031684
                        ]
                      },
                      {
                        "learn": [
                          0.1908891132
                        ],
                        "iteration": 35,
                        "passed_time": 0.6313204077,
                        "remaining_time": 8.137018589,
                        "test": [
                          0.967146848,
                          0.1933004051
                        ]
                      },
                      {
                        "learn": [
                          0.1902345603
                        ],
                        "iteration": 36,
                        "passed_time": 0.6516820297,
                        "remaining_time": 8.154831885,
                        "test": [
                          0.9672839308,
                          0.1926904886
                        ]
                      },
                      {
                        "learn": [
                          0.189464213
                        ],
                        "iteration": 37,
                        "passed_time": 0.668935954,
                        "remaining_time": 8.132852914,
                        "test": [
                          0.9675350002,
                          0.1918486849
                        ]
                      },
                      {
                        "learn": [
                          0.1886278368
                        ],
                        "iteration": 38,
                        "passed_time": 0.6840518411,
                        "remaining_time": 8.085843558,
                        "test": [
                          0.9675545733,
                          0.1911579037
                        ]
                      },
                      {
                        "learn": [
                          0.1878767357
                        ],
                        "iteration": 39,
                        "passed_time": 0.6984536956,
                        "remaining_time": 8.0322175,
                        "test": [
                          0.9676009794,
                          0.1905285234
                        ]
                      },
                      {
                        "learn": [
                          0.1872089348
                        ],
                        "iteration": 40,
                        "passed_time": 0.7140994498,
                        "remaining_time": 7.994430426,
                        "test": [
                          0.9677382757,
                          0.1898515269
                        ]
                      },
                      {
                        "learn": [
                          0.1866750482
                        ],
                        "iteration": 41,
                        "passed_time": 0.7304091336,
                        "remaining_time": 7.964937694,
                        "test": [
                          0.9678075289,
                          0.1893404951
                        ]
                      },
                      {
                        "learn": [
                          0.1861709725
                        ],
                        "iteration": 42,
                        "passed_time": 0.7454394606,
                        "remaining_time": 7.922461244,
                        "test": [
                          0.9678706966,
                          0.1888851916
                        ]
                      },
                      {
                        "learn": [
                          0.1857612101
                        ],
                        "iteration": 43,
                        "passed_time": 0.7612156663,
                        "remaining_time": 7.88896236,
                        "test": [
                          0.9679628325,
                          0.1884730378
                        ]
                      },
                      {
                        "learn": [
                          0.1851589367
                        ],
                        "iteration": 44,
                        "passed_time": 0.7787134367,
                        "remaining_time": 7.873658082,
                        "test": [
                          0.9681616239,
                          0.1879129082
                        ]
                      },
                      {
                        "learn": [
                          0.1845312622
                        ],
                        "iteration": 45,
                        "passed_time": 0.7949057678,
                        "remaining_time": 7.845374317,
                        "test": [
                          0.9681992043,
                          0.1873825638
                        ]
                      },
                      {
                        "learn": [
                          0.183995811
                        ],
                        "iteration": 46,
                        "passed_time": 0.8095357702,
                        "remaining_time": 7.802546892,
                        "test": [
                          0.9683039025,
                          0.1868290579
                        ]
                      },
                      {
                        "learn": [
                          0.1834821372
                        ],
                        "iteration": 47,
                        "passed_time": 0.826567512,
                        "remaining_time": 7.783510738,
                        "test": [
                          0.9684364657,
                          0.1864099964
                        ]
                      },
                      {
                        "learn": [
                          0.1829626541
                        ],
                        "iteration": 48,
                        "passed_time": 0.8420711302,
                        "remaining_time": 7.750491423,
                        "test": [
                          0.9684852205,
                          0.1858829587
                        ]
                      },
                      {
                        "learn": [
                          0.1826079703
                        ],
                        "iteration": 49,
                        "passed_time": 0.8593782214,
                        "remaining_time": 7.734403992,
                        "test": [
                          0.9684732632,
                          0.185666472
                        ]
                      },
                      {
                        "learn": [
                          0.1822219157
                        ],
                        "iteration": 50,
                        "passed_time": 0.8753526772,
                        "remaining_time": 7.706536315,
                        "test": [
                          0.968546858,
                          0.1853009902
                        ]
                      },
                      {
                        "learn": [
                          0.1818240046
                        ],
                        "iteration": 51,
                        "passed_time": 0.8908937633,
                        "remaining_time": 7.675392422,
                        "test": [
                          0.9685919473,
                          0.1849785022
                        ]
                      },
                      {
                        "learn": [
                          0.1808905902
                        ],
                        "iteration": 52,
                        "passed_time": 0.9077180287,
                        "remaining_time": 7.655659601,
                        "test": [
                          0.9686491363,
                          0.1840504034
                        ]
                      },
                      {
                        "learn": [
                          0.1806002641
                        ],
                        "iteration": 53,
                        "passed_time": 0.9231482494,
                        "remaining_time": 7.624520727,
                        "test": [
                          0.9686749372,
                          0.1838691771
                        ]
                      },
                      {
                        "learn": [
                          0.1803187181
                        ],
                        "iteration": 54,
                        "passed_time": 0.9405794213,
                        "remaining_time": 7.61014259,
                        "test": [
                          0.9687130869,
                          0.1836494745
                        ]
                      },
                      {
                        "learn": [
                          0.179918143
                        ],
                        "iteration": 55,
                        "passed_time": 0.9629207527,
                        "remaining_time": 7.634585968,
                        "test": [
                          0.9688298137,
                          0.1832784627
                        ]
                      },
                      {
                        "learn": [
                          0.1795022449
                        ],
                        "iteration": 56,
                        "passed_time": 0.9851427052,
                        "remaining_time": 7.656459972,
                        "test": [
                          0.9688923765,
                          0.1829637131
                        ]
                      },
                      {
                        "learn": [
                          0.1789387533
                        ],
                        "iteration": 57,
                        "passed_time": 1.001231168,
                        "remaining_time": 7.630072006,
                        "test": [
                          0.9689516651,
                          0.1824421451
                        ]
                      },
                      {
                        "learn": [
                          0.1787137354
                        ],
                        "iteration": 58,
                        "passed_time": 1.01547449,
                        "remaining_time": 7.59024153,
                        "test": [
                          0.9689673948,
                          0.1823190651
                        ]
                      },
                      {
                        "learn": [
                          0.1785680774
                        ],
                        "iteration": 59,
                        "passed_time": 1.031217988,
                        "remaining_time": 7.562265248,
                        "test": [
                          0.9689631955,
                          0.1822350835
                        ]
                      },
                      {
                        "learn": [
                          0.1778310528
                        ],
                        "iteration": 60,
                        "passed_time": 1.045956478,
                        "remaining_time": 7.527457276,
                        "test": [
                          0.9690027687,
                          0.1815268404
                        ]
                      },
                      {
                        "learn": [
                          0.1774421429
                        ],
                        "iteration": 61,
                        "passed_time": 1.061167017,
                        "remaining_time": 7.496631507,
                        "test": [
                          0.9690798511,
                          0.1811563374
                        ]
                      },
                      {
                        "learn": [
                          0.1774039332
                        ],
                        "iteration": 62,
                        "passed_time": 1.069010637,
                        "remaining_time": 7.415200765,
                        "test": [
                          0.9690834454,
                          0.1811139206
                        ]
                      },
                      {
                        "learn": [
                          0.1770478007
                        ],
                        "iteration": 63,
                        "passed_time": 1.085633304,
                        "remaining_time": 7.395876883,
                        "test": [
                          0.9692160442,
                          0.1807250379
                        ]
                      },
                      {
                        "learn": [
                          0.1769272079
                        ],
                        "iteration": 64,
                        "passed_time": 1.099794033,
                        "remaining_time": 7.360160069,
                        "test": [
                          0.9692271119,
                          0.1806390198
                        ]
                      },
                      {
                        "learn": [
                          0.1766764164
                        ],
                        "iteration": 65,
                        "passed_time": 1.113824696,
                        "remaining_time": 7.32424118,
                        "test": [
                          0.9692846924,
                          0.1804746389
                        ]
                      },
                      {
                        "learn": [
                          0.1761722185
                        ],
                        "iteration": 66,
                        "passed_time": 1.128822688,
                        "remaining_time": 7.295227225,
                        "test": [
                          0.9693957964,
                          0.1800079108
                        ]
                      },
                      {
                        "learn": [
                          0.1759438215
                        ],
                        "iteration": 67,
                        "passed_time": 1.143789112,
                        "remaining_time": 7.266424949,
                        "test": [
                          0.9694266151,
                          0.1798012896
                        ]
                      },
                      {
                        "learn": [
                          0.1754659924
                        ],
                        "iteration": 68,
                        "passed_time": 1.158253111,
                        "remaining_time": 7.234885373,
                        "test": [
                          0.9695366515,
                          0.1793454733
                        ]
                      },
                      {
                        "learn": [
                          0.1753100673
                        ],
                        "iteration": 69,
                        "passed_time": 1.172660477,
                        "remaining_time": 7.203485787,
                        "test": [
                          0.9695556552,
                          0.1792663467
                        ]
                      },
                      {
                        "learn": [
                          0.1751678744
                        ],
                        "iteration": 70,
                        "passed_time": 1.190568804,
                        "remaining_time": 7.193718546,
                        "test": [
                          0.9695468295,
                          0.1792086517
                        ]
                      },
                      {
                        "learn": [
                          0.1749304787
                        ],
                        "iteration": 71,
                        "passed_time": 1.205912508,
                        "remaining_time": 7.168479908,
                        "test": [
                          0.9696060114,
                          0.1789481957
                        ]
                      },
                      {
                        "learn": [
                          0.1747984731
                        ],
                        "iteration": 72,
                        "passed_time": 1.220809679,
                        "remaining_time": 7.14090045,
                        "test": [
                          0.9696275062,
                          0.1788720332
                        ]
                      },
                      {
                        "learn": [
                          0.1745415491
                        ],
                        "iteration": 73,
                        "passed_time": 1.235539174,
                        "remaining_time": 7.112698488,
                        "test": [
                          0.9696544815,
                          0.1786798151
                        ]
                      },
                      {
                        "learn": [
                          0.1742659055
                        ],
                        "iteration": 74,
                        "passed_time": 1.256411506,
                        "remaining_time": 7.1196652,
                        "test": [
                          0.9696946242,
                          0.1784871424
                        ]
                      },
                      {
                        "learn": [
                          0.173802302
                        ],
                        "iteration": 75,
                        "passed_time": 1.274538277,
                        "remaining_time": 7.110581966,
                        "test": [
                          0.9697693578,
                          0.1780267768
                        ]
                      },
                      {
                        "learn": [
                          0.1733893328
                        ],
                        "iteration": 76,
                        "passed_time": 1.289479003,
                        "remaining_time": 7.083761276,
                        "test": [
                          0.9698712802,
                          0.1775842198
                        ]
                      },
                      {
                        "learn": [
                          0.1732244073
                        ],
                        "iteration": 77,
                        "passed_time": 1.305310384,
                        "remaining_time": 7.062063871,
                        "test": [
                          0.9699058712,
                          0.1774506859
                        ]
                      },
                      {
                        "learn": [
                          0.1730530484
                        ],
                        "iteration": 78,
                        "passed_time": 1.321719284,
                        "remaining_time": 7.043592639,
                        "test": [
                          0.9699549819,
                          0.1772986886
                        ]
                      },
                      {
                        "learn": [
                          0.1728648925
                        ],
                        "iteration": 79,
                        "passed_time": 1.345978879,
                        "remaining_time": 7.066389114,
                        "test": [
                          0.9699912099,
                          0.1771132783
                        ]
                      },
                      {
                        "learn": [
                          0.172542021
                        ],
                        "iteration": 80,
                        "passed_time": 1.370376612,
                        "remaining_time": 7.088738276,
                        "test": [
                          0.9700429896,
                          0.1767868019
                        ]
                      },
                      {
                        "learn": [
                          0.1723712678
                        ],
                        "iteration": 81,
                        "passed_time": 1.390632278,
                        "remaining_time": 7.088832834,
                        "test": [
                          0.9701019936,
                          0.1766264163
                        ]
                      },
                      {
                        "learn": [
                          0.1721502805
                        ],
                        "iteration": 82,
                        "passed_time": 1.41335819,
                        "remaining_time": 7.100847774,
                        "test": [
                          0.9701664069,
                          0.1764171031
                        ]
                      },
                      {
                        "learn": [
                          0.1720233325
                        ],
                        "iteration": 83,
                        "passed_time": 1.435681068,
                        "remaining_time": 7.110039575,
                        "test": [
                          0.970176834,
                          0.1763685277
                        ]
                      },
                      {
                        "learn": [
                          0.1718749265
                        ],
                        "iteration": 84,
                        "passed_time": 1.45117319,
                        "remaining_time": 7.085139692,
                        "test": [
                          0.9701959445,
                          0.1762467322
                        ]
                      },
                      {
                        "learn": [
                          0.1716734665
                        ],
                        "iteration": 85,
                        "passed_time": 1.465555044,
                        "remaining_time": 7.055113815,
                        "test": [
                          0.9702153752,
                          0.1760737615
                        ]
                      },
                      {
                        "learn": [
                          0.1715246196
                        ],
                        "iteration": 86,
                        "passed_time": 1.481667381,
                        "remaining_time": 7.033662395,
                        "test": [
                          0.9702441299,
                          0.1759335716
                        ]
                      },
                      {
                        "learn": [
                          0.1713172002
                        ],
                        "iteration": 87,
                        "passed_time": 1.496183991,
                        "remaining_time": 7.004861412,
                        "test": [
                          0.9702618524,
                          0.1757597945
                        ]
                      },
                      {
                        "learn": [
                          0.1710338899
                        ],
                        "iteration": 88,
                        "passed_time": 1.517730512,
                        "remaining_time": 7.008845399,
                        "test": [
                          0.9703559456,
                          0.1754431258
                        ]
                      },
                      {
                        "learn": [
                          0.1709417993
                        ],
                        "iteration": 89,
                        "passed_time": 1.541754637,
                        "remaining_time": 7.0235489,
                        "test": [
                          0.970353668,
                          0.1753864354
                        ]
                      },
                      {
                        "learn": [
                          0.17058324
                        ],
                        "iteration": 90,
                        "passed_time": 1.565034824,
                        "remaining_time": 7.034057617,
                        "test": [
                          0.9704056257,
                          0.1750408289
                        ]
                      },
                      {
                        "learn": [
                          0.1703066625
                        ],
                        "iteration": 91,
                        "passed_time": 1.591510521,
                        "remaining_time": 7.058003181,
                        "test": [
                          0.9704775835,
                          0.1747809553
                        ]
                      },
                      {
                        "learn": [
                          0.170140134
                        ],
                        "iteration": 92,
                        "passed_time": 1.614360323,
                        "remaining_time": 7.064996251,
                        "test": [
                          0.970493669,
                          0.1746774849
                        ]
                      },
                      {
                        "learn": [
                          0.1699259523
                        ],
                        "iteration": 93,
                        "passed_time": 1.636463969,
                        "remaining_time": 7.068131611,
                        "test": [
                          0.9705112492,
                          0.1745198034
                        ]
                      },
                      {
                        "learn": [
                          0.1697931468
                        ],
                        "iteration": 94,
                        "passed_time": 1.664382081,
                        "remaining_time": 7.09552361,
                        "test": [
                          0.9705565876,
                          0.1744092272
                        ]
                      },
                      {
                        "learn": [
                          0.1697132069
                        ],
                        "iteration": 95,
                        "passed_time": 1.690781003,
                        "remaining_time": 7.115370053,
                        "test": [
                          0.970571819,
                          0.174351268
                        ]
                      },
                      {
                        "learn": [
                          0.1695776802
                        ],
                        "iteration": 96,
                        "passed_time": 1.716249343,
                        "remaining_time": 7.130396757,
                        "test": [
                          0.9706089723,
                          0.174201956
                        ]
                      },
                      {
                        "learn": [
                          0.169437127
                        ],
                        "iteration": 97,
                        "passed_time": 1.742552338,
                        "remaining_time": 7.148020813,
                        "test": [
                          0.9706232785,
                          0.1740988373
                        ]
                      },
                      {
                        "learn": [
                          0.1693483521
                        ],
                        "iteration": 98,
                        "passed_time": 1.767057375,
                        "remaining_time": 7.157474822,
                        "test": [
                          0.9706270507,
                          0.1740707453
                        ]
                      },
                      {
                        "learn": [
                          0.1689827197
                        ],
                        "iteration": 99,
                        "passed_time": 1.793433103,
                        "remaining_time": 7.173732412,
                        "test": [
                          0.9706578695,
                          0.1736946468
                        ]
                      },
                      {
                        "learn": [
                          0.1689050373
                        ],
                        "iteration": 100,
                        "passed_time": 1.810076556,
                        "remaining_time": 7.150698476,
                        "test": [
                          0.9706750226,
                          0.17364894
                        ]
                      },
                      {
                        "learn": [
                          0.1687439442
                        ],
                        "iteration": 101,
                        "passed_time": 1.8316171,
                        "remaining_time": 7.146898095,
                        "test": [
                          0.9707172293,
                          0.1735412852
                        ]
                      },
                      {
                        "learn": [
                          0.1685962826
                        ],
                        "iteration": 102,
                        "passed_time": 1.855815726,
                        "remaining_time": 7.152998479,
                        "test": [
                          0.9707238486,
                          0.1734506794
                        ]
                      },
                      {
                        "learn": [
                          0.1685091954
                        ],
                        "iteration": 103,
                        "passed_time": 1.868777371,
                        "remaining_time": 7.11572922,
                        "test": [
                          0.9707200763,
                          0.1734293715
                        ]
                      },
                      {
                        "learn": [
                          0.1684050553
                        ],
                        "iteration": 104,
                        "passed_time": 1.889017409,
                        "remaining_time": 7.106303588,
                        "test": [
                          0.9707393647,
                          0.1733754761
                        ]
                      },
                      {
                        "learn": [
                          0.168285913
                        ],
                        "iteration": 105,
                        "passed_time": 1.913588834,
                        "remaining_time": 7.112773592,
                        "test": [
                          0.9707677635,
                          0.1733049037
                        ]
                      },
                      {
                        "learn": [
                          0.1681780677
                        ],
                        "iteration": 106,
                        "passed_time": 1.936760942,
                        "remaining_time": 7.113523834,
                        "test": [
                          0.9707852013,
                          0.1732483072
                        ]
                      },
                      {
                        "learn": [
                          0.1681075201
                        ],
                        "iteration": 107,
                        "passed_time": 1.951528783,
                        "remaining_time": 7.083326695,
                        "test": [
                          0.9707950235,
                          0.1732163947
                        ]
                      },
                      {
                        "learn": [
                          0.1680736691
                        ],
                        "iteration": 108,
                        "passed_time": 1.963930147,
                        "remaining_time": 7.04492374,
                        "test": [
                          0.9707886889,
                          0.1732211431
                        ]
                      },
                      {
                        "learn": [
                          0.1678793564
                        ],
                        "iteration": 109,
                        "passed_time": 1.984449663,
                        "remaining_time": 7.035776076,
                        "test": [
                          0.9708251304,
                          0.1731005546
                        ]
                      },
                      {
                        "learn": [
                          0.167755661
                        ],
                        "iteration": 110,
                        "passed_time": 2.001642376,
                        "remaining_time": 7.014764725,
                        "test": [
                          0.9708540986,
                          0.1729950041
                        ]
                      },
                      {
                        "learn": [
                          0.1672956815
                        ],
                        "iteration": 111,
                        "passed_time": 2.017805157,
                        "remaining_time": 6.99025358,
                        "test": [
                          0.9709429249,
                          0.1725093309
                        ]
                      },
                      {
                        "learn": [
                          0.1671616933
                        ],
                        "iteration": 112,
                        "passed_time": 2.032305512,
                        "remaining_time": 6.960196755,
                        "test": [
                          0.9709941708,
                          0.1723928245
                        ]
                      },
                      {
                        "learn": [
                          0.1671021316
                        ],
                        "iteration": 113,
                        "passed_time": 2.048478404,
                        "remaining_time": 6.936075998,
                        "test": [
                          0.9709970178,
                          0.1723655956
                        ]
                      },
                      {
                        "learn": [
                          0.167101444
                        ],
                        "iteration": 114,
                        "passed_time": 2.058125254,
                        "remaining_time": 6.890245417,
                        "test": [
                          0.9709970178,
                          0.1723647339
                        ]
                      },
                      {
                        "learn": [
                          0.1669889305
                        ],
                        "iteration": 115,
                        "passed_time": 2.072061646,
                        "remaining_time": 6.859238552,
                        "test": [
                          0.971043922,
                          0.1722772956
                        ]
                      },
                      {
                        "learn": [
                          0.1669065107
                        ],
                        "iteration": 116,
                        "passed_time": 2.084592282,
                        "remaining_time": 6.823921742,
                        "test": [
                          0.9710531748,
                          0.1722084004
                        ]
                      },
                      {
                        "learn": [
                          0.1667403699
                        ],
                        "iteration": 117,
                        "passed_time": 2.104142954,
                        "remaining_time": 6.811717022,
                        "test": [
                          0.9710782995,
                          0.172096844
                        ]
                      },
                      {
                        "learn": [
                          0.1666646148
                        ],
                        "iteration": 118,
                        "passed_time": 2.122599848,
                        "remaining_time": 6.795886908,
                        "test": [
                          0.9710867693,
                          0.1720293365
                        ]
                      },
                      {
                        "learn": [
                          0.1665192504
                        ],
                        "iteration": 119,
                        "passed_time": 2.138827681,
                        "remaining_time": 6.772954322,
                        "test": [
                          0.9710909686,
                          0.171959535
                        ]
                      },
                      {
                        "learn": [
                          0.1664931519
                        ],
                        "iteration": 120,
                        "passed_time": 2.147602546,
                        "remaining_time": 6.726788141,
                        "test": [
                          0.971096022,
                          0.1719438851
                        ]
                      },
                      {
                        "learn": [
                          0.1664428705
                        ],
                        "iteration": 121,
                        "passed_time": 2.162983139,
                        "remaining_time": 6.701701858,
                        "test": [
                          0.9711013602,
                          0.1718983498
                        ]
                      },
                      {
                        "learn": [
                          0.1663541887
                        ],
                        "iteration": 122,
                        "passed_time": 2.179133174,
                        "remaining_time": 6.67913176,
                        "test": [
                          0.9711470544,
                          0.1718170493
                        ]
                      },
                      {
                        "learn": [
                          0.1662591498
                        ],
                        "iteration": 123,
                        "passed_time": 2.195815825,
                        "remaining_time": 6.658280243,
                        "test": [
                          0.9711571613,
                          0.1717496105
                        ]
                      },
                      {
                        "learn": [
                          0.1661370186
                        ],
                        "iteration": 124,
                        "passed_time": 2.2149415,
                        "remaining_time": 6.644824499,
                        "test": [
                          0.9711610047,
                          0.1717304214
                        ]
                      },
                      {
                        "learn": [
                          0.1660299996
                        ],
                        "iteration": 125,
                        "passed_time": 2.230589677,
                        "remaining_time": 6.620956659,
                        "test": [
                          0.9711573748,
                          0.1717041409
                        ]
                      },
                      {
                        "learn": [
                          0.1658519759
                        ],
                        "iteration": 126,
                        "passed_time": 2.247176655,
                        "remaining_time": 6.599975531,
                        "test": [
                          0.9711846348,
                          0.1715760407
                        ]
                      },
                      {
                        "learn": [
                          0.1657589629
                        ],
                        "iteration": 127,
                        "passed_time": 2.26892206,
                        "remaining_time": 6.594054737,
                        "test": [
                          0.9711917523,
                          0.1715439567
                        ]
                      },
                      {
                        "learn": [
                          0.1656538984
                        ],
                        "iteration": 128,
                        "passed_time": 2.285712588,
                        "remaining_time": 6.573638528,
                        "test": [
                          0.9711845636,
                          0.1715463568
                        ]
                      },
                      {
                        "learn": [
                          0.1654169248
                        ],
                        "iteration": 129,
                        "passed_time": 2.299276332,
                        "remaining_time": 6.544094175,
                        "test": [
                          0.9712074819,
                          0.1712716592
                        ]
                      },
                      {
                        "learn": [
                          0.1653815377
                        ],
                        "iteration": 130,
                        "passed_time": 2.314331932,
                        "remaining_time": 6.518996053,
                        "test": [
                          0.9712002221,
                          0.1712603248
                        ]
                      },
                      {
                        "learn": [
                          0.1653142477
                        ],
                        "iteration": 131,
                        "passed_time": 2.330991485,
                        "remaining_time": 6.498521717,
                        "test": [
                          0.9712224998,
                          0.1712179096
                        ]
                      },
                      {
                        "learn": [
                          0.1652063822
                        ],
                        "iteration": 132,
                        "passed_time": 2.345417819,
                        "remaining_time": 6.471942402,
                        "test": [
                          0.9712558096,
                          0.171148128
                        ]
                      },
                      {
                        "learn": [
                          0.1650724147
                        ],
                        "iteration": 133,
                        "passed_time": 2.359912987,
                        "remaining_time": 6.445732486,
                        "test": [
                          0.9712975893,
                          0.1709648622
                        ]
                      },
                      {
                        "learn": [
                          0.1650174502
                        ],
                        "iteration": 134,
                        "passed_time": 2.375249962,
                        "remaining_time": 6.421972119,
                        "test": [
                          0.9712931765,
                          0.1709495925
                        ]
                      },
                      {
                        "learn": [
                          0.1649205691
                        ],
                        "iteration": 135,
                        "passed_time": 2.390120456,
                        "remaining_time": 6.397087103,
                        "test": [
                          0.9713259169,
                          0.1708194125
                        ]
                      },
                      {
                        "learn": [
                          0.1646677396
                        ],
                        "iteration": 136,
                        "passed_time": 2.405393553,
                        "remaining_time": 6.373415036,
                        "test": [
                          0.9714200813,
                          0.1706197234
                        ]
                      },
                      {
                        "learn": [
                          0.1645636545
                        ],
                        "iteration": 137,
                        "passed_time": 2.420769156,
                        "remaining_time": 6.350133584,
                        "test": [
                          0.9714354551,
                          0.1705387889
                        ]
                      },
                      {
                        "learn": [
                          0.1645275585
                        ],
                        "iteration": 138,
                        "passed_time": 2.435274799,
                        "remaining_time": 6.324706493,
                        "test": [
                          0.9714384444,
                          0.1705305697
                        ]
                      },
                      {
                        "learn": [
                          0.1644076203
                        ],
                        "iteration": 139,
                        "passed_time": 2.453325508,
                        "remaining_time": 6.308551307,
                        "test": [
                          0.9714484801,
                          0.1704184635
                        ]
                      },
                      {
                        "learn": [
                          0.1643501468
                        ],
                        "iteration": 140,
                        "passed_time": 2.46857646,
                        "remaining_time": 6.285240773,
                        "test": [
                          0.9714483377,
                          0.1704058712
                        ]
                      },
                      {
                        "learn": [
                          0.1642201296
                        ],
                        "iteration": 141,
                        "passed_time": 2.48276287,
                        "remaining_time": 6.259359911,
                        "test": [
                          0.9714679108,
                          0.1702979565
                        ]
                      },
                      {
                        "learn": [
                          0.1639642493
                        ],
                        "iteration": 142,
                        "passed_time": 2.497763074,
                        "remaining_time": 6.235674248,
                        "test": [
                          0.9714914697,
                          0.1700795173
                        ]
                      },
                      {
                        "learn": [
                          0.1638544533
                        ],
                        "iteration": 143,
                        "passed_time": 2.513984496,
                        "remaining_time": 6.215128337,
                        "test": [
                          0.9715315411,
                          0.1700210176
                        ]
                      },
                      {
                        "learn": [
                          0.163780402
                        ],
                        "iteration": 144,
                        "passed_time": 2.527874587,
                        "remaining_time": 6.188934333,
                        "test": [
                          0.9715422174,
                          0.169976201
                        ]
                      },
                      {
                        "learn": [
                          0.1636957455
                        ],
                        "iteration": 145,
                        "passed_time": 2.546258719,
                        "remaining_time": 6.173805388,
                        "test": [
                          0.9715740326,
                          0.1699187947
                        ]
                      },
                      {
                        "learn": [
                          0.1636352962
                        ],
                        "iteration": 146,
                        "passed_time": 2.562455067,
                        "remaining_time": 6.153378493,
                        "test": [
                          0.9715913992,
                          0.1698679598
                        ]
                      },
                      {
                        "learn": [
                          0.1635065173
                        ],
                        "iteration": 147,
                        "passed_time": 2.578306619,
                        "remaining_time": 6.132188715,
                        "test": [
                          0.9716627165,
                          0.1697232494
                        ]
                      },
                      {
                        "learn": [
                          0.1633940832
                        ],
                        "iteration": 148,
                        "passed_time": 2.592894717,
                        "remaining_time": 6.108094267,
                        "test": [
                          0.971682859,
                          0.1696792756
                        ]
                      },
                      {
                        "learn": [
                          0.1633514308
                        ],
                        "iteration": 149,
                        "passed_time": 2.605518083,
                        "remaining_time": 6.079542194,
                        "test": [
                          0.9716855636,
                          0.1696695429
                        ]
                      },
                      {
                        "learn": [
                          0.1633514023
                        ],
                        "iteration": 150,
                        "passed_time": 2.613302314,
                        "remaining_time": 6.040016607,
                        "test": [
                          0.9716855636,
                          0.1696693246
                        ]
                      },
                      {
                        "learn": [
                          0.1632305382
                        ],
                        "iteration": 151,
                        "passed_time": 2.628658258,
                        "remaining_time": 6.018243907,
                        "test": [
                          0.9717343184,
                          0.1695509612
                        ]
                      },
                      {
                        "learn": [
                          0.163111503
                        ],
                        "iteration": 152,
                        "passed_time": 2.643955827,
                        "remaining_time": 5.996422692,
                        "test": [
                          0.9717763116,
                          0.1694596175
                        ]
                      },
                      {
                        "learn": [
                          0.1630163924
                        ],
                        "iteration": 153,
                        "passed_time": 2.659677053,
                        "remaining_time": 5.975638054,
                        "test": [
                          0.971803358,
                          0.1694076362
                        ]
                      },
                      {
                        "learn": [
                          0.1629766217
                        ],
                        "iteration": 154,
                        "passed_time": 2.674100601,
                        "remaining_time": 5.952030369,
                        "test": [
                          0.971810262,
                          0.1693751645
                        ]
                      },
                      {
                        "learn": [
                          0.1628773041
                        ],
                        "iteration": 155,
                        "passed_time": 2.689206514,
                        "remaining_time": 5.930045134,
                        "test": [
                          0.9718017922,
                          0.169363166
                        ]
                      },
                      {
                        "learn": [
                          0.1627913339
                        ],
                        "iteration": 156,
                        "passed_time": 2.702531504,
                        "remaining_time": 5.904256725,
                        "test": [
                          0.9718151731,
                          0.169289951
                        ]
                      },
                      {
                        "learn": [
                          0.1626970353
                        ],
                        "iteration": 157,
                        "passed_time": 2.715999426,
                        "remaining_time": 5.878935466,
                        "test": [
                          0.9718425754,
                          0.169233483
                        ]
                      },
                      {
                        "learn": [
                          0.1625444238
                        ],
                        "iteration": 158,
                        "passed_time": 2.729511926,
                        "remaining_time": 5.853858911,
                        "test": [
                          0.9718646396,
                          0.1690695115
                        ]
                      },
                      {
                        "learn": [
                          0.1624778438
                        ],
                        "iteration": 159,
                        "passed_time": 2.745525591,
                        "remaining_time": 5.834241881,
                        "test": [
                          0.9718762411,
                          0.1690441905
                        ]
                      },
                      {
                        "learn": [
                          0.1624335588
                        ],
                        "iteration": 160,
                        "passed_time": 2.767523947,
                        "remaining_time": 5.82727092,
                        "test": [
                          0.9718758852,
                          0.1690309676
                        ]
                      },
                      {
                        "learn": [
                          0.1623353405
                        ],
                        "iteration": 161,
                        "passed_time": 2.790674596,
                        "remaining_time": 5.822518602,
                        "test": [
                          0.9718786611,
                          0.1690171574
                        ]
                      },
                      {
                        "learn": [
                          0.1623104203
                        ],
                        "iteration": 162,
                        "passed_time": 2.812546591,
                        "remaining_time": 5.814896939,
                        "test": [
                          0.971884355,
                          0.1689958741
                        ]
                      },
                      {
                        "learn": [
                          0.1622151014
                        ],
                        "iteration": 163,
                        "passed_time": 2.826964687,
                        "remaining_time": 5.79183009,
                        "test": [
                          0.9718998,
                          0.1689426092
                        ]
                      },
                      {
                        "learn": [
                          0.1621763403
                        ],
                        "iteration": 164,
                        "passed_time": 2.840572148,
                        "remaining_time": 5.767222239,
                        "test": [
                          0.971916099,
                          0.1688977762
                        ]
                      },
                      {
                        "learn": [
                          0.1621653292
                        ],
                        "iteration": 165,
                        "passed_time": 2.849834236,
                        "remaining_time": 5.734003825,
                        "test": [
                          0.9719188749,
                          0.1688776038
                        ]
                      },
                      {
                        "learn": [
                          0.1620345126
                        ],
                        "iteration": 166,
                        "passed_time": 2.863603794,
                        "remaining_time": 5.71006026,
                        "test": [
                          0.9719891957,
                          0.1687326205
                        ]
                      },
                      {
                        "learn": [
                          0.1619576839
                        ],
                        "iteration": 167,
                        "passed_time": 2.877424343,
                        "remaining_time": 5.686338584,
                        "test": [
                          0.9719837864,
                          0.1687357271
                        ]
                      },
                      {
                        "learn": [
                          0.1619131456
                        ],
                        "iteration": 168,
                        "passed_time": 2.889780902,
                        "remaining_time": 5.659866737,
                        "test": [
                          0.9719894092,
                          0.1687173991
                        ]
                      },
                      {
                        "learn": [
                          0.1618697001
                        ],
                        "iteration": 169,
                        "passed_time": 2.903289282,
                        "remaining_time": 5.635796842,
                        "test": [
                          0.9719985196,
                          0.168682617
                        ]
                      },
                      {
                        "learn": [
                          0.1618208016
                        ],
                        "iteration": 170,
                        "passed_time": 2.916160598,
                        "remaining_time": 5.610624776,
                        "test": [
                          0.9720034306,
                          0.1686576224
                        ]
                      },
                      {
                        "learn": [
                          0.1616978619
                        ],
                        "iteration": 171,
                        "passed_time": 2.930396361,
                        "remaining_time": 5.588197712,
                        "test": [
                          0.9720067758,
                          0.1685869506
                        ]
                      },
                      {
                        "learn": [
                          0.1616033898
                        ],
                        "iteration": 172,
                        "passed_time": 2.94617952,
                        "remaining_time": 5.56879019,
                        "test": [
                          0.9720214379,
                          0.1685452725
                        ]
                      },
                      {
                        "learn": [
                          0.1616033689
                        ],
                        "iteration": 173,
                        "passed_time": 2.952933604,
                        "remaining_time": 5.532507788,
                        "test": [
                          0.9720214379,
                          0.1685452223
                        ]
                      },
                      {
                        "learn": [
                          0.1615425608
                        ],
                        "iteration": 174,
                        "passed_time": 2.967623499,
                        "remaining_time": 5.511300784,
                        "test": [
                          0.9720220073,
                          0.1685328602
                        ]
                      },
                      {
                        "learn": [
                          0.161498697
                        ],
                        "iteration": 175,
                        "passed_time": 2.987410214,
                        "remaining_time": 5.499550622,
                        "test": [
                          0.9720183774,
                          0.1685256121
                        ]
                      },
                      {
                        "learn": [
                          0.1614486729
                        ],
                        "iteration": 176,
                        "passed_time": 3.001817961,
                        "remaining_time": 5.477893794,
                        "test": [
                          0.9720292671,
                          0.1684978731
                        ]
                      },
                      {
                        "learn": [
                          0.1613686982
                        ],
                        "iteration": 177,
                        "passed_time": 3.016862541,
                        "remaining_time": 5.457470439,
                        "test": [
                          0.9720268472,
                          0.1684986032
                        ]
                      },
                      {
                        "learn": [
                          0.1612642443
                        ],
                        "iteration": 178,
                        "passed_time": 3.032003389,
                        "remaining_time": 5.43727982,
                        "test": [
                          0.9720442138,
                          0.168449425
                        ]
                      },
                      {
                        "learn": [
                          0.1611588366
                        ],
                        "iteration": 179,
                        "passed_time": 3.046794634,
                        "remaining_time": 5.416523795,
                        "test": [
                          0.972060157,
                          0.1683948689
                        ]
                      },
                      {
                        "learn": [
                          0.1610836237
                        ],
                        "iteration": 180,
                        "passed_time": 3.062321916,
                        "remaining_time": 5.397130891,
                        "test": [
                          0.9720816518,
                          0.1683405116
                        ]
                      },
                      {
                        "learn": [
                          0.1610236564
                        ],
                        "iteration": 181,
                        "passed_time": 3.077598855,
                        "remaining_time": 5.377343055,
                        "test": [
                          0.9720778084,
                          0.168337234
                        ]
                      },
                      {
                        "learn": [
                          0.1610110176
                        ],
                        "iteration": 182,
                        "passed_time": 3.087227361,
                        "remaining_time": 5.347820073,
                        "test": [
                          0.9720704774,
                          0.1683504123
                        ]
                      },
                      {
                        "learn": [
                          0.1609110626
                        ],
                        "iteration": 183,
                        "passed_time": 3.102000629,
                        "remaining_time": 5.327348907,
                        "test": [
                          0.9720832177,
                          0.1682894769
                        ]
                      },
                      {
                        "learn": [
                          0.1607331815
                        ],
                        "iteration": 184,
                        "passed_time": 3.11544411,
                        "remaining_time": 5.304675106,
                        "test": [
                          0.9720780931,
                          0.1681332497
                        ]
                      },
                      {
                        "learn": [
                          0.1606731753
                        ],
                        "iteration": 185,
                        "passed_time": 3.131118584,
                        "remaining_time": 5.285866858,
                        "test": [
                          0.9720872035,
                          0.1681075617
                        ]
                      },
                      {
                        "learn": [
                          0.1606485855
                        ],
                        "iteration": 186,
                        "passed_time": 3.144576836,
                        "remaining_time": 5.263382618,
                        "test": [
                          0.9720852817,
                          0.168099546
                        ]
                      },
                      {
                        "learn": [
                          0.1606485709
                        ],
                        "iteration": 187,
                        "passed_time": 3.150853897,
                        "remaining_time": 5.229076679,
                        "test": [
                          0.9720852817,
                          0.1680994496
                        ]
                      },
                      {
                        "learn": [
                          0.1605810221
                        ],
                        "iteration": 188,
                        "passed_time": 3.166161737,
                        "remaining_time": 5.209927514,
                        "test": [
                          0.9720968833,
                          0.1680467136
                        ]
                      },
                      {
                        "learn": [
                          0.160558709
                        ],
                        "iteration": 189,
                        "passed_time": 3.178814004,
                        "remaining_time": 5.186486006,
                        "test": [
                          0.9720830041,
                          0.1680710175
                        ]
                      },
                      {
                        "learn": [
                          0.1604351946
                        ],
                        "iteration": 190,
                        "passed_time": 3.193089861,
                        "remaining_time": 5.165784121,
                        "test": [
                          0.9721295525,
                          0.1679627954
                        ]
                      },
                      {
                        "learn": [
                          0.160408208
                        ],
                        "iteration": 191,
                        "passed_time": 3.205515498,
                        "remaining_time": 5.142181112,
                        "test": [
                          0.9721200863,
                          0.1679756673
                        ]
                      },
                      {
                        "learn": [
                          0.1604082074
                        ],
                        "iteration": 192,
                        "passed_time": 3.212097666,
                        "remaining_time": 5.109398879,
                        "test": [
                          0.9721200863,
                          0.1679756584
                        ]
                      },
                      {
                        "learn": [
                          0.1601679345
                        ],
                        "iteration": 193,
                        "passed_time": 3.227597976,
                        "remaining_time": 5.090953509,
                        "test": [
                          0.972144001,
                          0.167767502
                        ]
                      },
                      {
                        "learn": [
                          0.1600865959
                        ],
                        "iteration": 194,
                        "passed_time": 3.244009258,
                        "remaining_time": 5.073963199,
                        "test": [
                          0.9721668482,
                          0.1677213296
                        ]
                      },
                      {
                        "learn": [
                          0.1600506505
                        ],
                        "iteration": 195,
                        "passed_time": 3.258893983,
                        "remaining_time": 5.054611076,
                        "test": [
                          0.9721615812,
                          0.1677255331
                        ]
                      },
                      {
                        "learn": [
                          0.1597951887
                        ],
                        "iteration": 196,
                        "passed_time": 3.273871203,
                        "remaining_time": 5.035446571,
                        "test": [
                          0.9722244998,
                          0.1674733617
                        ]
                      },
                      {
                        "learn": [
                          0.1597085222
                        ],
                        "iteration": 197,
                        "passed_time": 3.288720361,
                        "remaining_time": 5.016129035,
                        "test": [
                          0.9722580944,
                          0.1673886366
                        ]
                      },
                      {
                        "learn": [
                          0.1596380933
                        ],
                        "iteration": 198,
                        "passed_time": 3.302951781,
                        "remaining_time": 4.99592204,
                        "test": [
                          0.9722603008,
                          0.1673586758
                        ]
                      },
                      {
                        "learn": [
                          0.1596102539
                        ],
                        "iteration": 199,
                        "passed_time": 3.315789955,
                        "remaining_time": 4.973684932,
                        "test": [
                          0.9722577385,
                          0.1673625754
                        ]
                      },
                      {
                        "learn": [
                          0.1595500175
                        ],
                        "iteration": 200,
                        "passed_time": 3.329976832,
                        "remaining_time": 4.953547625,
                        "test": [
                          0.9722683435,
                          0.1673436361
                        ]
                      },
                      {
                        "learn": [
                          0.1594629459
                        ],
                        "iteration": 201,
                        "passed_time": 3.342242791,
                        "remaining_time": 4.930635404,
                        "test": [
                          0.9722793757,
                          0.1672864215
                        ]
                      },
                      {
                        "learn": [
                          0.1593790767
                        ],
                        "iteration": 202,
                        "passed_time": 3.357180477,
                        "remaining_time": 4.911736954,
                        "test": [
                          0.9723125431,
                          0.1672118456
                        ]
                      },
                      {
                        "learn": [
                          0.1591781975
                        ],
                        "iteration": 203,
                        "passed_time": 3.371711556,
                        "remaining_time": 4.892287355,
                        "test": [
                          0.9723773123,
                          0.1670804612
                        ]
                      },
                      {
                        "learn": [
                          0.1591317919
                        ],
                        "iteration": 204,
                        "passed_time": 3.38645023,
                        "remaining_time": 4.873184477,
                        "test": [
                          0.9723761023,
                          0.1670781603
                        ]
                      },
                      {
                        "learn": [
                          0.1590617517
                        ],
                        "iteration": 205,
                        "passed_time": 3.40060374,
                        "remaining_time": 4.853288833,
                        "test": [
                          0.9723917608,
                          0.1670514033
                        ]
                      },
                      {
                        "learn": [
                          0.1589844811
                        ],
                        "iteration": 206,
                        "passed_time": 3.415296822,
                        "remaining_time": 4.83421241,
                        "test": [
                          0.9724018676,
                          0.1670065836
                        ]
                      },
                      {
                        "learn": [
                          0.1589138599
                        ],
                        "iteration": 207,
                        "passed_time": 3.43029957,
                        "remaining_time": 4.815612858,
                        "test": [
                          0.9724201596,
                          0.1669745841
                        ]
                      },
                      {
                        "learn": [
                          0.1588125762
                        ],
                        "iteration": 208,
                        "passed_time": 3.445818797,
                        "remaining_time": 4.797766842,
                        "test": [
                          0.9724475619,
                          0.1669100462
                        ]
                      },
                      {
                        "learn": [
                          0.1587454219
                        ],
                        "iteration": 209,
                        "passed_time": 3.461842292,
                        "remaining_time": 4.780639355,
                        "test": [
                          0.9724763877,
                          0.1668477672
                        ]
                      },
                      {
                        "learn": [
                          0.1586790148
                        ],
                        "iteration": 210,
                        "passed_time": 3.477951319,
                        "remaining_time": 4.763639485,
                        "test": [
                          0.9724854981,
                          0.1668148456
                        ]
                      },
                      {
                        "learn": [
                          0.1584771109
                        ],
                        "iteration": 211,
                        "passed_time": 3.492895742,
                        "remaining_time": 4.745065913,
                        "test": [
                          0.9725099823,
                          0.1666223243
                        ]
                      },
                      {
                        "learn": [
                          0.1583793311
                        ],
                        "iteration": 212,
                        "passed_time": 3.509445009,
                        "remaining_time": 4.728688814,
                        "test": [
                          0.9725121175,
                          0.1666345819
                        ]
                      },
                      {
                        "learn": [
                          0.1583410315
                        ],
                        "iteration": 213,
                        "passed_time": 3.523476824,
                        "remaining_time": 4.708945661,
                        "test": [
                          0.9725130428,
                          0.1666239314
                        ]
                      },
                      {
                        "learn": [
                          0.1582676311
                        ],
                        "iteration": 214,
                        "passed_time": 3.539319581,
                        "remaining_time": 4.691656188,
                        "test": [
                          0.9725255696,
                          0.1666073081
                        ]
                      },
                      {
                        "learn": [
                          0.1581850888
                        ],
                        "iteration": 215,
                        "passed_time": 3.55466617,
                        "remaining_time": 4.673727742,
                        "test": [
                          0.9725425804,
                          0.1665457494
                        ]
                      },
                      {
                        "learn": [
                          0.158066854
                        ],
                        "iteration": 216,
                        "passed_time": 3.573170852,
                        "remaining_time": 4.65994171,
                        "test": [
                          0.9725723315,
                          0.1664880811
                        ]
                      },
                      {
                        "learn": [
                          0.1579577195
                        ],
                        "iteration": 217,
                        "passed_time": 3.58758531,
                        "remaining_time": 4.640821364,
                        "test": [
                          0.9725785237,
                          0.1664501268
                        ]
                      },
                      {
                        "learn": [
                          0.1578254601
                        ],
                        "iteration": 218,
                        "passed_time": 3.602072001,
                        "remaining_time": 4.621836676,
                        "test": [
                          0.9726045737,
                          0.1663605891
                        ]
                      },
                      {
                        "learn": [
                          0.1578176657
                        ],
                        "iteration": 219,
                        "passed_time": 3.612412101,
                        "remaining_time": 4.597615401,
                        "test": [
                          0.9726062107,
                          0.1663580684
                        ]
                      },
                      {
                        "learn": [
                          0.1577745475
                        ],
                        "iteration": 220,
                        "passed_time": 3.626705658,
                        "remaining_time": 4.578510763,
                        "test": [
                          0.9726063531,
                          0.1663662179
                        ]
                      },
                      {
                        "learn": [
                          0.1575910098
                        ],
                        "iteration": 221,
                        "passed_time": 3.642713983,
                        "remaining_time": 4.56159679,
                        "test": [
                          0.9726858554,
                          0.166171618
                        ]
                      },
                      {
                        "learn": [
                          0.1574620133
                        ],
                        "iteration": 222,
                        "passed_time": 3.658399387,
                        "remaining_time": 4.544289822,
                        "test": [
                          0.972723934,
                          0.166042651
                        ]
                      },
                      {
                        "learn": [
                          0.1573001166
                        ],
                        "iteration": 223,
                        "passed_time": 3.673225009,
                        "remaining_time": 4.525937957,
                        "test": [
                          0.9727753934,
                          0.1659245231
                        ]
                      },
                      {
                        "learn": [
                          0.157181282
                        ],
                        "iteration": 224,
                        "passed_time": 3.688184449,
                        "remaining_time": 4.507780993,
                        "test": [
                          0.972802511,
                          0.1658430917
                        ]
                      },
                      {
                        "learn": [
                          0.1570907465
                        ],
                        "iteration": 225,
                        "passed_time": 3.703436298,
                        "remaining_time": 4.490006839,
                        "test": [
                          0.9728389526,
                          0.1657881812
                        ]
                      },
                      {
                        "learn": [
                          0.1570530313
                        ],
                        "iteration": 226,
                        "passed_time": 3.71839755,
                        "remaining_time": 4.471905424,
                        "test": [
                          0.9728459277,
                          0.1657672183
                        ]
                      },
                      {
                        "learn": [
                          0.1569020421
                        ],
                        "iteration": 227,
                        "passed_time": 3.732090739,
                        "remaining_time": 4.452318776,
                        "test": [
                          0.972872903,
                          0.165689834
                        ]
                      },
                      {
                        "learn": [
                          0.1568908347
                        ],
                        "iteration": 228,
                        "passed_time": 3.746701364,
                        "remaining_time": 4.4338693,
                        "test": [
                          0.9728751094,
                          0.1656888224
                        ]
                      },
                      {
                        "learn": [
                          0.1568379833
                        ],
                        "iteration": 229,
                        "passed_time": 3.761993313,
                        "remaining_time": 4.416253019,
                        "test": [
                          0.9728763906,
                          0.1656932466
                        ]
                      },
                      {
                        "learn": [
                          0.1567732468
                        ],
                        "iteration": 230,
                        "passed_time": 3.777048538,
                        "remaining_time": 4.398381197,
                        "test": [
                          0.9728788817,
                          0.1656997467
                        ]
                      },
                      {
                        "learn": [
                          0.1566046092
                        ],
                        "iteration": 231,
                        "passed_time": 3.794354741,
                        "remaining_time": 4.383133924,
                        "test": [
                          0.9729349675,
                          0.1655474263
                        ]
                      },
                      {
                        "learn": [
                          0.1565263868
                        ],
                        "iteration": 232,
                        "passed_time": 3.808395524,
                        "remaining_time": 4.364127059,
                        "test": [
                          0.9729571741,
                          0.1655122923
                        ]
                      },
                      {
                        "learn": [
                          0.1564280077
                        ],
                        "iteration": 233,
                        "passed_time": 3.825398503,
                        "remaining_time": 4.348529922,
                        "test": [
                          0.9729910533,
                          0.1654308392
                        ]
                      },
                      {
                        "learn": [
                          0.1563634191
                        ],
                        "iteration": 234,
                        "passed_time": 3.84022481,
                        "remaining_time": 4.330466275,
                        "test": [
                          0.9730015872,
                          0.1654035863
                        ]
                      },
                      {
                        "learn": [
                          0.1562998079
                        ],
                        "iteration": 235,
                        "passed_time": 3.854953488,
                        "remaining_time": 4.312320851,
                        "test": [
                          0.9730184556,
                          0.16535861
                        ]
                      },
                      {
                        "learn": [
                          0.156166626
                        ],
                        "iteration": 236,
                        "passed_time": 3.870457615,
                        "remaining_time": 4.29506478,
                        "test": [
                          0.9730584559,
                          0.16526331
                        ]
                      },
                      {
                        "learn": [
                          0.1561208529
                        ],
                        "iteration": 237,
                        "passed_time": 3.885405744,
                        "remaining_time": 4.277211365,
                        "test": [
                          0.9730565342,
                          0.165273483
                        ]
                      },
                      {
                        "learn": [
                          0.1560704153
                        ],
                        "iteration": 238,
                        "passed_time": 3.900397224,
                        "remaining_time": 4.259429604,
                        "test": [
                          0.9730644346,
                          0.1652580939
                        ]
                      },
                      {
                        "learn": [
                          0.1560021046
                        ],
                        "iteration": 239,
                        "passed_time": 3.915826862,
                        "remaining_time": 4.242145767,
                        "test": [
                          0.9730864988,
                          0.1652239262
                        ]
                      },
                      {
                        "learn": [
                          0.155934507
                        ],
                        "iteration": 240,
                        "passed_time": 3.930875326,
                        "remaining_time": 4.224467674,
                        "test": [
                          0.9730829401,
                          0.1652245177
                        ]
                      },
                      {
                        "learn": [
                          0.1558742822
                        ],
                        "iteration": 241,
                        "passed_time": 3.946570165,
                        "remaining_time": 4.207500424,
                        "test": [
                          0.9730894882,
                          0.1652086083
                        ]
                      },
                      {
                        "learn": [
                          0.1558482282
                        ],
                        "iteration": 242,
                        "passed_time": 3.960113283,
                        "remaining_time": 4.188267958,
                        "test": [
                          0.9730831536,
                          0.1652222565
                        ]
                      },
                      {
                        "learn": [
                          0.1557913081
                        ],
                        "iteration": 243,
                        "passed_time": 3.975510368,
                        "remaining_time": 4.171027272,
                        "test": [
                          0.9730864988,
                          0.1652082655
                        ]
                      },
                      {
                        "learn": [
                          0.1557318524
                        ],
                        "iteration": 244,
                        "passed_time": 3.998524251,
                        "remaining_time": 4.161729323,
                        "test": [
                          0.9730857871,
                          0.1651964516
                        ]
                      },
                      {
                        "learn": [
                          0.1555801341
                        ],
                        "iteration": 245,
                        "passed_time": 4.01358841,
                        "remaining_time": 4.14411161,
                        "test": [
                          0.9731352536,
                          0.1650577754
                        ]
                      },
                      {
                        "learn": [
                          0.1554298195
                        ],
                        "iteration": 246,
                        "passed_time": 4.028606952,
                        "remaining_time": 4.12646785,
                        "test": [
                          0.973135823,
                          0.1649594562
                        ]
                      },
                      {
                        "learn": [
                          0.1552920663
                        ],
                        "iteration": 247,
                        "passed_time": 4.043085639,
                        "remaining_time": 4.108296697,
                        "test": [
                          0.9731966776,
                          0.1647989914
                        ]
                      },
                      {
                        "learn": [
                          0.1552385268
                        ],
                        "iteration": 248,
                        "passed_time": 4.058396161,
                        "remaining_time": 4.09099372,
                        "test": [
                          0.9732153966,
                          0.1647667667
                        ]
                      },
                      {
                        "learn": [
                          0.155191761
                        ],
                        "iteration": 249,
                        "passed_time": 4.073588242,
                        "remaining_time": 4.073588242,
                        "test": [
                          0.9732291333,
                          0.16474304
                        ]
                      },
                      {
                        "learn": [
                          0.1551509259
                        ],
                        "iteration": 250,
                        "passed_time": 4.088121044,
                        "remaining_time": 4.055546374,
                        "test": [
                          0.9732494181,
                          0.1646823451
                        ]
                      },
                      {
                        "learn": [
                          0.1551071318
                        ],
                        "iteration": 251,
                        "passed_time": 4.104664358,
                        "remaining_time": 4.039510956,
                        "test": [
                          0.9732531904,
                          0.1646713724
                        ]
                      },
                      {
                        "learn": [
                          0.1550516048
                        ],
                        "iteration": 252,
                        "passed_time": 4.120047363,
                        "remaining_time": 4.02233873,
                        "test": [
                          0.9732516957,
                          0.1646703845
                        ]
                      },
                      {
                        "learn": [
                          0.1549969415
                        ],
                        "iteration": 253,
                        "passed_time": 4.133497514,
                        "remaining_time": 4.003308616,
                        "test": [
                          0.973272977,
                          0.1646034463
                        ]
                      },
                      {
                        "learn": [
                          0.1549248224
                        ],
                        "iteration": 254,
                        "passed_time": 4.149238302,
                        "remaining_time": 3.986523075,
                        "test": [
                          0.9732670695,
                          0.1646167563
                        ]
                      },
                      {
                        "learn": [
                          0.1548281643
                        ],
                        "iteration": 255,
                        "passed_time": 4.164965954,
                        "remaining_time": 3.969733175,
                        "test": [
                          0.9732840091,
                          0.1645933113
                        ]
                      },
                      {
                        "learn": [
                          0.1548279697
                        ],
                        "iteration": 256,
                        "passed_time": 4.173185203,
                        "remaining_time": 3.945852157,
                        "test": [
                          0.9732840091,
                          0.1645932631
                        ]
                      },
                      {
                        "learn": [
                          0.1548278116
                        ],
                        "iteration": 257,
                        "passed_time": 4.18168958,
                        "remaining_time": 3.922359994,
                        "test": [
                          0.9732840091,
                          0.1645932309
                        ]
                      },
                      {
                        "learn": [
                          0.1547333565
                        ],
                        "iteration": 258,
                        "passed_time": 4.197095295,
                        "remaining_time": 3.905405274,
                        "test": [
                          0.9733110556,
                          0.1645352898
                        ]
                      },
                      {
                        "learn": [
                          0.1546132136
                        ],
                        "iteration": 259,
                        "passed_time": 4.212058579,
                        "remaining_time": 3.888054073,
                        "test": [
                          0.9733639385,
                          0.1644009634
                        ]
                      },
                      {
                        "learn": [
                          0.1545551624
                        ],
                        "iteration": 260,
                        "passed_time": 4.228367767,
                        "remaining_time": 3.871953626,
                        "test": [
                          0.9733976043,
                          0.1643378312
                        ]
                      },
                      {
                        "learn": [
                          0.1544978528
                        ],
                        "iteration": 261,
                        "passed_time": 4.243613548,
                        "remaining_time": 3.85488559,
                        "test": [
                          0.9734178891,
                          0.1643064172
                        ]
                      },
                      {
                        "learn": [
                          0.1544616369
                        ],
                        "iteration": 262,
                        "passed_time": 4.257351088,
                        "remaining_time": 3.836472273,
                        "test": [
                          0.9734122663,
                          0.1643126779
                        ]
                      },
                      {
                        "learn": [
                          0.1544199253
                        ],
                        "iteration": 263,
                        "passed_time": 4.271552136,
                        "remaining_time": 3.818508728,
                        "test": [
                          0.9734378181,
                          0.1642641914
                        ]
                      },
                      {
                        "learn": [
                          0.154368781
                        ],
                        "iteration": 264,
                        "passed_time": 4.286788008,
                        "remaining_time": 3.801491252,
                        "test": [
                          0.9734363946,
                          0.164271842
                        ]
                      },
                      {
                        "learn": [
                          0.1542807077
                        ],
                        "iteration": 265,
                        "passed_time": 4.301421769,
                        "remaining_time": 3.783957496,
                        "test": [
                          0.9734489925,
                          0.1642248469
                        ]
                      },
                      {
                        "learn": [
                          0.1541371813
                        ],
                        "iteration": 266,
                        "passed_time": 4.316783653,
                        "remaining_time": 3.767080866,
                        "test": [
                          0.9734769642,
                          0.164137872
                        ]
                      },
                      {
                        "learn": [
                          0.1540905884
                        ],
                        "iteration": 267,
                        "passed_time": 4.331467908,
                        "remaining_time": 3.749628935,
                        "test": [
                          0.9734819465,
                          0.1641228806
                        ]
                      },
                      {
                        "learn": [
                          0.1540664199
                        ],
                        "iteration": 268,
                        "passed_time": 4.344657416,
                        "remaining_time": 3.730913989,
                        "test": [
                          0.9734819465,
                          0.1641197794
                        ]
                      },
                      {
                        "learn": [
                          0.1539851748
                        ],
                        "iteration": 269,
                        "passed_time": 4.360353318,
                        "remaining_time": 3.714375048,
                        "test": [
                          0.9735380323,
                          0.1640129073
                        ]
                      },
                      {
                        "learn": [
                          0.1539005435
                        ],
                        "iteration": 270,
                        "passed_time": 4.374985877,
                        "remaining_time": 3.696943786,
                        "test": [
                          0.9735500609,
                          0.1639824021
                        ]
                      },
                      {
                        "learn": [
                          0.1537697743
                        ],
                        "iteration": 271,
                        "passed_time": 4.390018143,
                        "remaining_time": 3.679868149,
                        "test": [
                          0.9736000968,
                          0.1638485655
                        ]
                      },
                      {
                        "learn": [
                          0.1537223922
                        ],
                        "iteration": 272,
                        "passed_time": 4.405512079,
                        "remaining_time": 3.663191362,
                        "test": [
                          0.9736071431,
                          0.1638238107
                        ]
                      },
                      {
                        "learn": [
                          0.1536474666
                        ],
                        "iteration": 273,
                        "passed_time": 4.419667508,
                        "remaining_time": 3.645419185,
                        "test": [
                          0.9736054349,
                          0.1638288133
                        ]
                      },
                      {
                        "learn": [
                          0.1535491447
                        ],
                        "iteration": 274,
                        "passed_time": 4.434464963,
                        "remaining_time": 3.628198606,
                        "test": [
                          0.9736102036,
                          0.1638262427
                        ]
                      },
                      {
                        "learn": [
                          0.1535043908
                        ],
                        "iteration": 275,
                        "passed_time": 4.449360345,
                        "remaining_time": 3.611075063,
                        "test": [
                          0.973598531,
                          0.163844152
                        ]
                      },
                      {
                        "learn": [
                          0.1534402077
                        ],
                        "iteration": 276,
                        "passed_time": 4.465278394,
                        "remaining_time": 3.594790909,
                        "test": [
                          0.9735880682,
                          0.1638738341
                        ]
                      },
                      {
                        "learn": [
                          0.1534104858
                        ],
                        "iteration": 277,
                        "passed_time": 4.481091476,
                        "remaining_time": 3.578425567,
                        "test": [
                          0.973592837,
                          0.1638665753
                        ]
                      },
                      {
                        "learn": [
                          0.1533825696
                        ],
                        "iteration": 278,
                        "passed_time": 4.49687666,
                        "remaining_time": 3.562042085,
                        "test": [
                          0.9735901323,
                          0.1638703339
                        ]
                      },
                      {
                        "learn": [
                          0.1532813127
                        ],
                        "iteration": 279,
                        "passed_time": 4.511841428,
                        "remaining_time": 3.545018265,
                        "test": [
                          0.9736084243,
                          0.1638251299
                        ]
                      },
                      {
                        "learn": [
                          0.1532782486
                        ],
                        "iteration": 280,
                        "passed_time": 4.522116002,
                        "remaining_time": 3.524353753,
                        "test": [
                          0.9736089937,
                          0.1638247324
                        ]
                      },
                      {
                        "learn": [
                          0.1532096983
                        ],
                        "iteration": 281,
                        "passed_time": 4.537425147,
                        "remaining_time": 3.507654901,
                        "test": [
                          0.9736088513,
                          0.1638129372
                        ]
                      },
                      {
                        "learn": [
                          0.1531540259
                        ],
                        "iteration": 282,
                        "passed_time": 4.551623683,
                        "remaining_time": 3.490114273,
                        "test": [
                          0.973611983,
                          0.1637779333
                        ]
                      },
                      {
                        "learn": [
                          0.1530067817
                        ],
                        "iteration": 283,
                        "passed_time": 4.567021112,
                        "remaining_time": 3.473509015,
                        "test": [
                          0.9736321255,
                          0.1637190789
                        ]
                      },
                      {
                        "learn": [
                          0.1529278149
                        ],
                        "iteration": 284,
                        "passed_time": 4.582070536,
                        "remaining_time": 3.456649702,
                        "test": [
                          0.9736374636,
                          0.1637069984
                        ]
                      },
                      {
                        "learn": [
                          0.1529273507
                        ],
                        "iteration": 285,
                        "passed_time": 4.590500222,
                        "remaining_time": 3.434849816,
                        "test": [
                          0.9736374636,
                          0.1637070461
                        ]
                      },
                      {
                        "learn": [
                          0.1528758609
                        ],
                        "iteration": 286,
                        "passed_time": 4.604780187,
                        "remaining_time": 3.417484947,
                        "test": [
                          0.9736315561,
                          0.1637079151
                        ]
                      },
                      {
                        "learn": [
                          0.1528614278
                        ],
                        "iteration": 287,
                        "passed_time": 4.618113927,
                        "remaining_time": 3.399444974,
                        "test": [
                          0.9736277127,
                          0.1637083625
                        ]
                      },
                      {
                        "learn": [
                          0.1527837335
                        ],
                        "iteration": 288,
                        "passed_time": 4.633927684,
                        "remaining_time": 3.38324824,
                        "test": [
                          0.9736398124,
                          0.1636761709
                        ]
                      },
                      {
                        "learn": [
                          0.1527306017
                        ],
                        "iteration": 289,
                        "passed_time": 4.649049978,
                        "remaining_time": 3.366553433,
                        "test": [
                          0.9736374636,
                          0.1636701742
                        ]
                      },
                      {
                        "learn": [
                          0.1526627966
                        ],
                        "iteration": 290,
                        "passed_time": 4.663747098,
                        "remaining_time": 3.349564067,
                        "test": [
                          0.9736289226,
                          0.1636814858
                        ]
                      },
                      {
                        "learn": [
                          0.1525204546
                        ],
                        "iteration": 291,
                        "passed_time": 4.679277678,
                        "remaining_time": 3.3331841,
                        "test": [
                          0.973685222,
                          0.1635142542
                        ]
                      },
                      {
                        "learn": [
                          0.1524262868
                        ],
                        "iteration": 292,
                        "passed_time": 4.69478788,
                        "remaining_time": 3.316795533,
                        "test": [
                          0.973723514,
                          0.1634435428
                        ]
                      },
                      {
                        "learn": [
                          0.1523577472
                        ],
                        "iteration": 293,
                        "passed_time": 4.710490687,
                        "remaining_time": 3.300547897,
                        "test": [
                          0.9737224464,
                          0.1634462409
                        ]
                      },
                      {
                        "learn": [
                          0.1522947111
                        ],
                        "iteration": 294,
                        "passed_time": 4.725913936,
                        "remaining_time": 3.284109685,
                        "test": [
                          0.973731628,
                          0.1634132636
                        ]
                      },
                      {
                        "learn": [
                          0.15223723
                        ],
                        "iteration": 295,
                        "passed_time": 4.740988606,
                        "remaining_time": 3.267438093,
                        "test": [
                          0.9737444395,
                          0.1633740347
                        ]
                      },
                      {
                        "learn": [
                          0.1521171014
                        ],
                        "iteration": 296,
                        "passed_time": 4.755836963,
                        "remaining_time": 3.250622571,
                        "test": [
                          0.9737902761,
                          0.1632514393
                        ]
                      },
                      {
                        "learn": [
                          0.1520956881
                        ],
                        "iteration": 297,
                        "passed_time": 4.769060158,
                        "remaining_time": 3.232718631,
                        "test": [
                          0.9737954719,
                          0.163242135
                        ]
                      },
                      {
                        "learn": [
                          0.152022366
                        ],
                        "iteration": 298,
                        "passed_time": 4.784299397,
                        "remaining_time": 3.216201267,
                        "test": [
                          0.9738400985,
                          0.1631443095
                        ]
                      },
                      {
                        "learn": [
                          0.1519574991
                        ],
                        "iteration": 299,
                        "passed_time": 4.798582587,
                        "remaining_time": 3.199055058,
                        "test": [
                          0.9738378921,
                          0.1631271533
                        ]
                      },
                      {
                        "learn": [
                          0.1518740001
                        ],
                        "iteration": 300,
                        "passed_time": 4.812875865,
                        "remaining_time": 3.181934542,
                        "test": [
                          0.9738548317,
                          0.1630585274
                        ]
                      },
                      {
                        "learn": [
                          0.151808313
                        ],
                        "iteration": 301,
                        "passed_time": 4.830061811,
                        "remaining_time": 3.166729267,
                        "test": [
                          0.97385049,
                          0.1630672821
                        ]
                      },
                      {
                        "learn": [
                          0.1518011415
                        ],
                        "iteration": 302,
                        "passed_time": 4.844671982,
                        "remaining_time": 3.149836239,
                        "test": [
                          0.9738516288,
                          0.163065675
                        ]
                      },
                      {
                        "learn": [
                          0.1517681347
                        ],
                        "iteration": 303,
                        "passed_time": 4.860520086,
                        "remaining_time": 3.133756371,
                        "test": [
                          0.973861451,
                          0.163051146
                        ]
                      },
                      {
                        "learn": [
                          0.1517226604
                        ],
                        "iteration": 304,
                        "passed_time": 4.87646819,
                        "remaining_time": 3.117741957,
                        "test": [
                          0.9738621627,
                          0.1630431713
                        ]
                      },
                      {
                        "learn": [
                          0.1516999085
                        ],
                        "iteration": 305,
                        "passed_time": 4.889995695,
                        "remaining_time": 3.100193349,
                        "test": [
                          0.973860241,
                          0.1630472796
                        ]
                      },
                      {
                        "learn": [
                          0.1516472443
                        ],
                        "iteration": 306,
                        "passed_time": 4.905965467,
                        "remaining_time": 3.084206303,
                        "test": [
                          0.9738618068,
                          0.1630275501
                        ]
                      },
                      {
                        "learn": [
                          0.1514681391
                        ],
                        "iteration": 307,
                        "passed_time": 4.920989749,
                        "remaining_time": 3.067629973,
                        "test": [
                          0.9739138357,
                          0.1628908919
                        ]
                      },
                      {
                        "learn": [
                          0.1514587343
                        ],
                        "iteration": 308,
                        "passed_time": 4.934102588,
                        "remaining_time": 3.049882182,
                        "test": [
                          0.9739167539,
                          0.1628859516
                        ]
                      },
                      {
                        "learn": [
                          0.1514280216
                        ],
                        "iteration": 309,
                        "passed_time": 4.947254378,
                        "remaining_time": 3.032188167,
                        "test": [
                          0.9739158286,
                          0.1628813892
                        ]
                      },
                      {
                        "learn": [
                          0.1513701371
                        ],
                        "iteration": 310,
                        "passed_time": 4.963555267,
                        "remaining_time": 3.016437124,
                        "test": [
                          0.9738993872,
                          0.1629099425
                        ]
                      },
                      {
                        "learn": [
                          0.1513503574
                        ],
                        "iteration": 311,
                        "passed_time": 4.974633049,
                        "remaining_time": 2.997535299,
                        "test": [
                          0.9738944049,
                          0.1629159298
                        ]
                      },
                      {
                        "learn": [
                          0.1513211044
                        ],
                        "iteration": 312,
                        "passed_time": 4.995113233,
                        "remaining_time": 2.984300877,
                        "test": [
                          0.9738949743,
                          0.1629107076
                        ]
                      },
                      {
                        "learn": [
                          0.1511616575
                        ],
                        "iteration": 313,
                        "passed_time": 5.014028651,
                        "remaining_time": 2.970093405,
                        "test": [
                          0.9739302059,
                          0.1628081403
                        ]
                      },
                      {
                        "learn": [
                          0.1511227996
                        ],
                        "iteration": 314,
                        "passed_time": 5.03054837,
                        "remaining_time": 2.954449043,
                        "test": [
                          0.9739422345,
                          0.162783851
                        ]
                      },
                      {
                        "learn": [
                          0.1510961018
                        ],
                        "iteration": 315,
                        "passed_time": 5.045441821,
                        "remaining_time": 2.937852199,
                        "test": [
                          0.973948142,
                          0.1627613373
                        ]
                      },
                      {
                        "learn": [
                          0.1510468766
                        ],
                        "iteration": 316,
                        "passed_time": 5.06054772,
                        "remaining_time": 2.921388747,
                        "test": [
                          0.9739549036,
                          0.1627547961
                        ]
                      },
                      {
                        "learn": [
                          0.1509943022
                        ],
                        "iteration": 317,
                        "passed_time": 5.075295966,
                        "remaining_time": 2.904729138,
                        "test": [
                          0.9739693521,
                          0.1627344811
                        ]
                      },
                      {
                        "learn": [
                          0.1509364197
                        ],
                        "iteration": 318,
                        "passed_time": 5.090231433,
                        "remaining_time": 2.888187741,
                        "test": [
                          0.9739861494,
                          0.1626959676
                        ]
                      },
                      {
                        "learn": [
                          0.1508850334
                        ],
                        "iteration": 319,
                        "passed_time": 5.105333356,
                        "remaining_time": 2.871750013,
                        "test": [
                          0.9739675015,
                          0.1627218238
                        ]
                      },
                      {
                        "learn": [
                          0.1508523212
                        ],
                        "iteration": 320,
                        "passed_time": 5.11684986,
                        "remaining_time": 2.853321262,
                        "test": [
                          0.9739603841,
                          0.1627393616
                        ]
                      },
                      {
                        "learn": [
                          0.1508307717
                        ],
                        "iteration": 321,
                        "passed_time": 5.131830617,
                        "remaining_time": 2.836850465,
                        "test": [
                          0.9739661492,
                          0.1627341164
                        ]
                      },
                      {
                        "learn": [
                          0.150732055
                        ],
                        "iteration": 322,
                        "passed_time": 5.147107596,
                        "remaining_time": 2.820551221,
                        "test": [
                          0.9740045837,
                          0.1626331356
                        ]
                      },
                      {
                        "learn": [
                          0.1506821022
                        ],
                        "iteration": 323,
                        "passed_time": 5.159737136,
                        "remaining_time": 2.802820173,
                        "test": [
                          0.9740021637,
                          0.1626202021
                        ]
                      },
                      {
                        "learn": [
                          0.1506181559
                        ],
                        "iteration": 324,
                        "passed_time": 5.174585756,
                        "remaining_time": 2.786315407,
                        "test": [
                          0.9740244415,
                          0.1625885042
                        ]
                      },
                      {
                        "learn": [
                          0.1505567785
                        ],
                        "iteration": 325,
                        "passed_time": 5.191087037,
                        "remaining_time": 2.770702897,
                        "test": [
                          0.9740426622,
                          0.1625397509
                        ]
                      },
                      {
                        "learn": [
                          0.1505122066
                        ],
                        "iteration": 326,
                        "passed_time": 5.206363768,
                        "remaining_time": 2.754437101,
                        "test": [
                          0.9740322707,
                          0.1625584712
                        ]
                      },
                      {
                        "learn": [
                          0.1503827336
                        ],
                        "iteration": 327,
                        "passed_time": 5.222046266,
                        "remaining_time": 2.738390115,
                        "test": [
                          0.9740817372,
                          0.1623936029
                        ]
                      },
                      {
                        "learn": [
                          0.150344526
                        ],
                        "iteration": 328,
                        "passed_time": 5.236958549,
                        "remaining_time": 2.721945021,
                        "test": [
                          0.9740853672,
                          0.162385456
                        ]
                      },
                      {
                        "learn": [
                          0.1502967594
                        ],
                        "iteration": 329,
                        "passed_time": 5.251999727,
                        "remaining_time": 2.705575617,
                        "test": [
                          0.9740937658,
                          0.1623828531
                        ]
                      },
                      {
                        "learn": [
                          0.1502470478
                        ],
                        "iteration": 330,
                        "passed_time": 5.265800409,
                        "remaining_time": 2.688580873,
                        "test": [
                          0.9741088549,
                          0.1623374171
                        ]
                      },
                      {
                        "learn": [
                          0.1502032141
                        ],
                        "iteration": 331,
                        "passed_time": 5.279438939,
                        "remaining_time": 2.671523319,
                        "test": [
                          0.9741245133,
                          0.1623125104
                        ]
                      },
                      {
                        "learn": [
                          0.1500968186
                        ],
                        "iteration": 332,
                        "passed_time": 5.294853434,
                        "remaining_time": 2.655376948,
                        "test": [
                          0.9741576097,
                          0.1622409076
                        ]
                      },
                      {
                        "learn": [
                          0.1499512371
                        ],
                        "iteration": 333,
                        "passed_time": 5.310681748,
                        "remaining_time": 2.639440629,
                        "test": [
                          0.9741685706,
                          0.1621385912
                        ]
                      },
                      {
                        "learn": [
                          0.1498773555
                        ],
                        "iteration": 334,
                        "passed_time": 5.326069126,
                        "remaining_time": 2.623287779,
                        "test": [
                          0.9741929836,
                          0.1620892912
                        ]
                      },
                      {
                        "learn": [
                          0.1498078547
                        ],
                        "iteration": 335,
                        "passed_time": 5.340903031,
                        "remaining_time": 2.606869336,
                        "test": [
                          0.9742062221,
                          0.1620330316
                        ]
                      },
                      {
                        "learn": [
                          0.1497463788
                        ],
                        "iteration": 336,
                        "passed_time": 5.356715649,
                        "remaining_time": 2.590933682,
                        "test": [
                          0.9742428772,
                          0.1619614128
                        ]
                      },
                      {
                        "learn": [
                          0.1496468591
                        ],
                        "iteration": 337,
                        "passed_time": 5.372018563,
                        "remaining_time": 2.574754459,
                        "test": [
                          0.9742919167,
                          0.1618537615
                        ]
                      },
                      {
                        "learn": [
                          0.1496029466
                        ],
                        "iteration": 338,
                        "passed_time": 5.387415482,
                        "remaining_time": 2.558625052,
                        "test": [
                          0.9742840874,
                          0.1618808829
                        ]
                      },
                      {
                        "learn": [
                          0.149467556
                        ],
                        "iteration": 339,
                        "passed_time": 5.402533867,
                        "remaining_time": 2.542368879,
                        "test": [
                          0.9743120592,
                          0.1617844154
                        ]
                      },
                      {
                        "learn": [
                          0.1494090165
                        ],
                        "iteration": 340,
                        "passed_time": 5.417641025,
                        "remaining_time": 2.526114144,
                        "test": [
                          0.9743142656,
                          0.1617470839
                        ]
                      },
                      {
                        "learn": [
                          0.1493675226
                        ],
                        "iteration": 341,
                        "passed_time": 5.432004376,
                        "remaining_time": 2.50952249,
                        "test": [
                          0.974322593,
                          0.1617140849
                        ]
                      },
                      {
                        "learn": [
                          0.1493123752
                        ],
                        "iteration": 342,
                        "passed_time": 5.446224163,
                        "remaining_time": 2.492878116,
                        "test": [
                          0.9743369704,
                          0.1616737872
                        ]
                      },
                      {
                        "learn": [
                          0.1492918511
                        ],
                        "iteration": 343,
                        "passed_time": 5.461977523,
                        "remaining_time": 2.476943295,
                        "test": [
                          0.9743394615,
                          0.1616698878
                        ]
                      },
                      {
                        "learn": [
                          0.1492312856
                        ],
                        "iteration": 344,
                        "passed_time": 5.475337568,
                        "remaining_time": 2.459934269,
                        "test": [
                          0.9743443014,
                          0.1616446343
                        ]
                      },
                      {
                        "learn": [
                          0.1491717563
                        ],
                        "iteration": 345,
                        "passed_time": 5.489065173,
                        "remaining_time": 2.443109933,
                        "test": [
                          0.9743640168,
                          0.1615936201
                        ]
                      },
                      {
                        "learn": [
                          0.1491071062
                        ],
                        "iteration": 346,
                        "passed_time": 5.504551603,
                        "remaining_time": 2.427078949,
                        "test": [
                          0.9743896398,
                          0.1615505721
                        ]
                      },
                      {
                        "learn": [
                          0.1490737442
                        ],
                        "iteration": 347,
                        "passed_time": 5.518513926,
                        "remaining_time": 2.410385393,
                        "test": [
                          0.9743821664,
                          0.1615513353
                        ]
                      },
                      {
                        "learn": [
                          0.1489800746
                        ],
                        "iteration": 348,
                        "passed_time": 5.534270421,
                        "remaining_time": 2.394483764,
                        "test": [
                          0.9743944085,
                          0.1615104229
                        ]
                      },
                      {
                        "learn": [
                          0.1489347477
                        ],
                        "iteration": 349,
                        "passed_time": 5.54924018,
                        "remaining_time": 2.378245791,
                        "test": [
                          0.9743964726,
                          0.161498276
                        ]
                      },
                      {
                        "learn": [
                          0.148888815
                        ],
                        "iteration": 350,
                        "passed_time": 5.56594461,
                        "remaining_time": 2.362751416,
                        "test": [
                          0.9743964726,
                          0.161495388
                        ]
                      },
                      {
                        "learn": [
                          0.1487990396
                        ],
                        "iteration": 351,
                        "passed_time": 5.580862141,
                        "remaining_time": 2.346498855,
                        "test": [
                          0.9744016683,
                          0.1614567869
                        ]
                      },
                      {
                        "learn": [
                          0.1487633001
                        ],
                        "iteration": 352,
                        "passed_time": 5.594557125,
                        "remaining_time": 2.329744752,
                        "test": [
                          0.9744044442,
                          0.1614588619
                        ]
                      },
                      {
                        "learn": [
                          0.1486996845
                        ],
                        "iteration": 353,
                        "passed_time": 5.610770596,
                        "remaining_time": 2.31404663,
                        "test": [
                          0.974427576,
                          0.161424074
                        ]
                      },
                      {
                        "learn": [
                          0.1486231979
                        ],
                        "iteration": 354,
                        "passed_time": 5.626199738,
                        "remaining_time": 2.298025245,
                        "test": [
                          0.9744559036,
                          0.1613455458
                        ]
                      },
                      {
                        "learn": [
                          0.1485997234
                        ],
                        "iteration": 355,
                        "passed_time": 5.639997653,
                        "remaining_time": 2.281347365,
                        "test": [
                          0.97446053,
                          0.1613276516
                        ]
                      },
                      {
                        "learn": [
                          0.1485219342
                        ],
                        "iteration": 356,
                        "passed_time": 5.655379455,
                        "remaining_time": 2.265320062,
                        "test": [
                          0.9744912775,
                          0.1612570119
                        ]
                      },
                      {
                        "learn": [
                          0.1484132508
                        ],
                        "iteration": 357,
                        "passed_time": 5.670032055,
                        "remaining_time": 2.249007128,
                        "test": [
                          0.9745156193,
                          0.1611859656
                        ]
                      },
                      {
                        "learn": [
                          0.1483522788
                        ],
                        "iteration": 358,
                        "passed_time": 5.685419848,
                        "remaining_time": 2.232992197,
                        "test": [
                          0.9745320607,
                          0.161144749
                        ]
                      },
                      {
                        "learn": [
                          0.1483392176
                        ],
                        "iteration": 359,
                        "passed_time": 5.699134648,
                        "remaining_time": 2.216330141,
                        "test": [
                          0.9745282173,
                          0.1611529258
                        ]
                      },
                      {
                        "learn": [
                          0.1482966199
                        ],
                        "iteration": 360,
                        "passed_time": 5.711197523,
                        "remaining_time": 2.199048354,
                        "test": [
                          0.9745467228,
                          0.1611226894
                        ]
                      },
                      {
                        "learn": [
                          0.1482410313
                        ],
                        "iteration": 361,
                        "passed_time": 5.725327153,
                        "remaining_time": 2.182583279,
                        "test": [
                          0.974551705,
                          0.1611152752
                        ]
                      },
                      {
                        "learn": [
                          0.148210693
                        ],
                        "iteration": 362,
                        "passed_time": 5.738534285,
                        "remaining_time": 2.165782912,
                        "test": [
                          0.9745475769,
                          0.1611117093
                        ]
                      },
                      {
                        "learn": [
                          0.1481962229
                        ],
                        "iteration": 363,
                        "passed_time": 5.752309933,
                        "remaining_time": 2.1492147,
                        "test": [
                          0.9745487868,
                          0.1611193198
                        ]
                      },
                      {
                        "learn": [
                          0.1481513284
                        ],
                        "iteration": 364,
                        "passed_time": 5.766658007,
                        "remaining_time": 2.132873509,
                        "test": [
                          0.9745522032,
                          0.161109679
                        ]
                      },
                      {
                        "learn": [
                          0.1481204413
                        ],
                        "iteration": 365,
                        "passed_time": 5.780914816,
                        "remaining_time": 2.116509796,
                        "test": [
                          0.9745511356,
                          0.1611121079
                        ]
                      },
                      {
                        "learn": [
                          0.1481039984
                        ],
                        "iteration": 366,
                        "passed_time": 5.795400687,
                        "remaining_time": 2.100240576,
                        "test": [
                          0.9745498544,
                          0.1611153526
                        ]
                      },
                      {
                        "learn": [
                          0.1479985513
                        ],
                        "iteration": 367,
                        "passed_time": 5.810439037,
                        "remaining_time": 2.08417922,
                        "test": [
                          0.9745690005,
                          0.1610421197
                        ]
                      },
                      {
                        "learn": [
                          0.1479640863
                        ],
                        "iteration": 368,
                        "passed_time": 5.823052581,
                        "remaining_time": 2.067262569,
                        "test": [
                          0.9745596766,
                          0.1610432844
                        ]
                      },
                      {
                        "learn": [
                          0.1479350582
                        ],
                        "iteration": 369,
                        "passed_time": 5.837095047,
                        "remaining_time": 2.050871233,
                        "test": [
                          0.9745648012,
                          0.1610439091
                        ]
                      },
                      {
                        "learn": [
                          0.1479121843
                        ],
                        "iteration": 370,
                        "passed_time": 5.852303172,
                        "remaining_time": 2.034897868,
                        "test": [
                          0.9745630218,
                          0.1610506915
                        ]
                      },
                      {
                        "learn": [
                          0.147808626
                        ],
                        "iteration": 371,
                        "passed_time": 5.869103736,
                        "remaining_time": 2.019476554,
                        "test": [
                          0.9745986804,
                          0.160937697
                        ]
                      },
                      {
                        "learn": [
                          0.1477711108
                        ],
                        "iteration": 372,
                        "passed_time": 5.885109821,
                        "remaining_time": 2.003777339,
                        "test": [
                          0.9745988228,
                          0.1609338942
                        ]
                      },
                      {
                        "learn": [
                          0.1477501961
                        ],
                        "iteration": 373,
                        "passed_time": 5.903534271,
                        "remaining_time": 1.988891225,
                        "test": [
                          0.9746035203,
                          0.1609209515
                        ]
                      },
                      {
                        "learn": [
                          0.1476972971
                        ],
                        "iteration": 374,
                        "passed_time": 5.919392531,
                        "remaining_time": 1.973130844,
                        "test": [
                          0.9746068655,
                          0.1609165009
                        ]
                      },
                      {
                        "learn": [
                          0.1476458426
                        ],
                        "iteration": 375,
                        "passed_time": 5.934806165,
                        "remaining_time": 1.95722331,
                        "test": [
                          0.9746203888,
                          0.1609067312
                        ]
                      },
                      {
                        "learn": [
                          0.1475712516
                        ],
                        "iteration": 376,
                        "passed_time": 5.950635448,
                        "remaining_time": 1.941454006,
                        "test": [
                          0.9746229511,
                          0.1608936976
                        ]
                      },
                      {
                        "learn": [
                          0.1474888344
                        ],
                        "iteration": 377,
                        "passed_time": 5.964744359,
                        "remaining_time": 1.925129132,
                        "test": [
                          0.9746545527,
                          0.1608182002
                        ]
                      },
                      {
                        "learn": [
                          0.1474545453
                        ],
                        "iteration": 378,
                        "passed_time": 5.979013834,
                        "remaining_time": 1.908867213,
                        "test": [
                          0.9746524175,
                          0.1608273928
                        ]
                      },
                      {
                        "learn": [
                          0.1473701038
                        ],
                        "iteration": 379,
                        "passed_time": 5.993441807,
                        "remaining_time": 1.892665834,
                        "test": [
                          0.9746884319,
                          0.1607425227
                        ]
                      },
                      {
                        "learn": [
                          0.1473229596
                        ],
                        "iteration": 380,
                        "passed_time": 6.016804859,
                        "remaining_time": 1.87926451,
                        "test": [
                          0.9746942683,
                          0.1607221776
                        ]
                      },
                      {
                        "learn": [
                          0.1472580517
                        ],
                        "iteration": 381,
                        "passed_time": 6.03388095,
                        "remaining_time": 1.863868984,
                        "test": [
                          0.9746948377,
                          0.1607224951
                        ]
                      },
                      {
                        "learn": [
                          0.1472298054
                        ],
                        "iteration": 382,
                        "passed_time": 6.051113093,
                        "remaining_time": 1.848512355,
                        "test": [
                          0.9746913501,
                          0.1607245286
                        ]
                      },
                      {
                        "learn": [
                          0.1471449733
                        ],
                        "iteration": 383,
                        "passed_time": 6.066108307,
                        "remaining_time": 1.832470218,
                        "test": [
                          0.9747149802,
                          0.1606786559
                        ]
                      },
                      {
                        "learn": [
                          0.1470156259
                        ],
                        "iteration": 384,
                        "passed_time": 6.082182999,
                        "remaining_time": 1.816755961,
                        "test": [
                          0.9747556922,
                          0.1605351106
                        ]
                      },
                      {
                        "learn": [
                          0.1469747719
                        ],
                        "iteration": 385,
                        "passed_time": 6.097080771,
                        "remaining_time": 1.800692248,
                        "test": [
                          0.974762098,
                          0.1605104973
                        ]
                      },
                      {
                        "learn": [
                          0.146924933
                        ],
                        "iteration": 386,
                        "passed_time": 6.111214696,
                        "remaining_time": 1.784411526,
                        "test": [
                          0.974760888,
                          0.1605072462
                        ]
                      },
                      {
                        "learn": [
                          0.1468885847
                        ],
                        "iteration": 387,
                        "passed_time": 6.125989044,
                        "remaining_time": 1.768326734,
                        "test": [
                          0.9747685749,
                          0.1604943186
                        ]
                      },
                      {
                        "learn": [
                          0.1468359777
                        ],
                        "iteration": 388,
                        "passed_time": 6.141783468,
                        "remaining_time": 1.752539756,
                        "test": [
                          0.9747819557,
                          0.1604369119
                        ]
                      },
                      {
                        "learn": [
                          0.1467709346
                        ],
                        "iteration": 389,
                        "passed_time": 6.158261899,
                        "remaining_time": 1.736945664,
                        "test": [
                          0.9747992512,
                          0.1603836722
                        ]
                      },
                      {
                        "learn": [
                          0.1467153714
                        ],
                        "iteration": 390,
                        "passed_time": 6.174240431,
                        "remaining_time": 1.72120769,
                        "test": [
                          0.9748090022,
                          0.1603562741
                        ]
                      },
                      {
                        "learn": [
                          0.1466587382
                        ],
                        "iteration": 391,
                        "passed_time": 6.18917704,
                        "remaining_time": 1.705181429,
                        "test": [
                          0.9748092869,
                          0.1603574021
                        ]
                      },
                      {
                        "learn": [
                          0.1466365286
                        ],
                        "iteration": 392,
                        "passed_time": 6.200943647,
                        "remaining_time": 1.688297634,
                        "test": [
                          0.9748139133,
                          0.1603461637
                        ]
                      },
                      {
                        "learn": [
                          0.1466140643
                        ],
                        "iteration": 393,
                        "passed_time": 6.215943052,
                        "remaining_time": 1.672309552,
                        "test": [
                          0.9748061552,
                          0.16035983
                        ]
                      },
                      {
                        "learn": [
                          0.1465491546
                        ],
                        "iteration": 394,
                        "passed_time": 6.230971715,
                        "remaining_time": 1.656334253,
                        "test": [
                          0.9747986107,
                          0.1603700595
                        ]
                      },
                      {
                        "learn": [
                          0.1465403014
                        ],
                        "iteration": 395,
                        "passed_time": 6.243992884,
                        "remaining_time": 1.639836515,
                        "test": [
                          0.9748012441,
                          0.1603642585
                        ]
                      },
                      {
                        "learn": [
                          0.1464618015
                        ],
                        "iteration": 396,
                        "passed_time": 6.259426542,
                        "remaining_time": 1.623982201,
                        "test": [
                          0.9748265112,
                          0.1602960446
                        ]
                      },
                      {
                        "learn": [
                          0.1463602447
                        ],
                        "iteration": 397,
                        "passed_time": 6.274762541,
                        "remaining_time": 1.608104973,
                        "test": [
                          0.9748382551,
                          0.1602419031
                        ]
                      },
                      {
                        "learn": [
                          0.1463291584
                        ],
                        "iteration": 398,
                        "passed_time": 6.288474114,
                        "remaining_time": 1.591819262,
                        "test": [
                          0.9748436644,
                          0.1602402187
                        ]
                      },
                      {
                        "learn": [
                          0.146255902
                        ],
                        "iteration": 399,
                        "passed_time": 6.303511834,
                        "remaining_time": 1.575877959,
                        "test": [
                          0.9748412444,
                          0.1602124444
                        ]
                      },
                      {
                        "learn": [
                          0.1462091315
                        ],
                        "iteration": 400,
                        "passed_time": 6.31630113,
                        "remaining_time": 1.559386065,
                        "test": [
                          0.9748437355,
                          0.1601948279
                        ]
                      },
                      {
                        "learn": [
                          0.146145725
                        ],
                        "iteration": 401,
                        "passed_time": 6.330515822,
                        "remaining_time": 1.543260076,
                        "test": [
                          0.9748517071,
                          0.1601889341
                        ]
                      },
                      {
                        "learn": [
                          0.146087852
                        ],
                        "iteration": 402,
                        "passed_time": 6.344704366,
                        "remaining_time": 1.527137279,
                        "test": [
                          0.9748627392,
                          0.1601542882
                        ]
                      },
                      {
                        "learn": [
                          0.1460580417
                        ],
                        "iteration": 403,
                        "passed_time": 6.359872985,
                        "remaining_time": 1.511256947,
                        "test": [
                          0.9748656574,
                          0.1601394787
                        ]
                      },
                      {
                        "learn": [
                          0.1459759055
                        ],
                        "iteration": 404,
                        "passed_time": 6.375648565,
                        "remaining_time": 1.495522503,
                        "test": [
                          0.9748924903,
                          0.1600597908
                        ]
                      },
                      {
                        "learn": [
                          0.1459258276
                        ],
                        "iteration": 405,
                        "passed_time": 6.391188243,
                        "remaining_time": 1.479733239,
                        "test": [
                          0.9749099994,
                          0.1600276377
                        ]
                      },
                      {
                        "learn": [
                          0.1459149681
                        ],
                        "iteration": 406,
                        "passed_time": 6.403902039,
                        "remaining_time": 1.463299483,
                        "test": [
                          0.9749093588,
                          0.1600240627
                        ]
                      },
                      {
                        "learn": [
                          0.1458734476
                        ],
                        "iteration": 407,
                        "passed_time": 6.419265671,
                        "remaining_time": 1.447481475,
                        "test": [
                          0.9749081488,
                          0.160028322
                        ]
                      },
                      {
                        "learn": [
                          0.1457951262
                        ],
                        "iteration": 408,
                        "passed_time": 6.434331576,
                        "remaining_time": 1.431599446,
                        "test": [
                          0.9749225261,
                          0.1599645933
                        ]
                      },
                      {
                        "learn": [
                          0.145753749
                        ],
                        "iteration": 409,
                        "passed_time": 6.448053474,
                        "remaining_time": 1.415426372,
                        "test": [
                          0.9749170457,
                          0.1599707347
                        ]
                      },
                      {
                        "learn": [
                          0.145719971
                        ],
                        "iteration": 410,
                        "passed_time": 6.462342312,
                        "remaining_time": 1.399387995,
                        "test": [
                          0.9749178286,
                          0.1599636434
                        ]
                      },
                      {
                        "learn": [
                          0.1456914832
                        ],
                        "iteration": 411,
                        "passed_time": 6.475955135,
                        "remaining_time": 1.383213718,
                        "test": [
                          0.9749292878,
                          0.1599260252
                        ]
                      },
                      {
                        "learn": [
                          0.1455705287
                        ],
                        "iteration": 412,
                        "passed_time": 6.490253658,
                        "remaining_time": 1.367196291,
                        "test": [
                          0.9749630246,
                          0.1597962157
                        ]
                      },
                      {
                        "learn": [
                          0.1455624335
                        ],
                        "iteration": 413,
                        "passed_time": 6.503116963,
                        "remaining_time": 1.350889031,
                        "test": [
                          0.9749624552,
                          0.1597971569
                        ]
                      },
                      {
                        "learn": [
                          0.145474845
                        ],
                        "iteration": 414,
                        "passed_time": 6.519360571,
                        "remaining_time": 1.335290719,
                        "test": [
                          0.9749780425,
                          0.1597458678
                        ]
                      },
                      {
                        "learn": [
                          0.1454015881
                        ],
                        "iteration": 415,
                        "passed_time": 6.533036817,
                        "remaining_time": 1.319170896,
                        "test": [
                          0.9750080783,
                          0.1596820662
                        ]
                      },
                      {
                        "learn": [
                          0.1453703374
                        ],
                        "iteration": 416,
                        "passed_time": 6.546522046,
                        "remaining_time": 1.303024772,
                        "test": [
                          0.9750069396,
                          0.1596801802
                        ]
                      },
                      {
                        "learn": [
                          0.1452841807
                        ],
                        "iteration": 417,
                        "passed_time": 6.560798022,
                        "remaining_time": 1.287046502,
                        "test": [
                          0.9750187546,
                          0.1596699238
                        ]
                      },
                      {
                        "learn": [
                          0.1452116168
                        ],
                        "iteration": 418,
                        "passed_time": 6.576275801,
                        "remaining_time": 1.271308687,
                        "test": [
                          0.9750411747,
                          0.1595981489
                        ]
                      },
                      {
                        "learn": [
                          0.1452074489
                        ],
                        "iteration": 419,
                        "passed_time": 6.589480542,
                        "remaining_time": 1.255139151,
                        "test": [
                          0.9750409611,
                          0.1595980829
                        ]
                      },
                      {
                        "learn": [
                          0.1451633825
                        ],
                        "iteration": 420,
                        "passed_time": 6.603942882,
                        "remaining_time": 1.239219686,
                        "test": [
                          0.9750445911,
                          0.1595734536
                        ]
                      },
                      {
                        "learn": [
                          0.1451303367
                        ],
                        "iteration": 421,
                        "passed_time": 6.619467198,
                        "remaining_time": 1.223503416,
                        "test": [
                          0.97503847,
                          0.1595840107
                        ]
                      },
                      {
                        "learn": [
                          0.1450925053
                        ],
                        "iteration": 422,
                        "passed_time": 6.635181728,
                        "remaining_time": 1.207822679,
                        "test": [
                          0.97503847,
                          0.1595788351
                        ]
                      },
                      {
                        "learn": [
                          0.1450231687
                        ],
                        "iteration": 423,
                        "passed_time": 6.649774948,
                        "remaining_time": 1.191940793,
                        "test": [
                          0.9750507121,
                          0.1595239865
                        ]
                      },
                      {
                        "learn": [
                          0.1450050264
                        ],
                        "iteration": 424,
                        "passed_time": 6.663902189,
                        "remaining_time": 1.175982739,
                        "test": [
                          0.9750509968,
                          0.1595309664
                        ]
                      },
                      {
                        "learn": [
                          0.1449368347
                        ],
                        "iteration": 425,
                        "passed_time": 6.678553033,
                        "remaining_time": 1.160124236,
                        "test": [
                          0.9750572602,
                          0.1595101366
                        ]
                      },
                      {
                        "learn": [
                          0.1449240996
                        ],
                        "iteration": 426,
                        "passed_time": 6.691353204,
                        "remaining_time": 1.143954997,
                        "test": [
                          0.9750579008,
                          0.1595113581
                        ]
                      },
                      {
                        "learn": [
                          0.1448568464
                        ],
                        "iteration": 427,
                        "passed_time": 6.704961614,
                        "remaining_time": 1.127937468,
                        "test": [
                          0.9750665129,
                          0.159467697
                        ]
                      },
                      {
                        "learn": [
                          0.1448244278
                        ],
                        "iteration": 428,
                        "passed_time": 6.718098942,
                        "remaining_time": 1.111853205,
                        "test": [
                          0.975073061,
                          0.1594525121
                        ]
                      },
                      {
                        "learn": [
                          0.1447998244
                        ],
                        "iteration": 429,
                        "passed_time": 6.731822915,
                        "remaining_time": 1.095878149,
                        "test": [
                          0.9750658012,
                          0.1594615012
                        ]
                      },
                      {
                        "learn": [
                          0.1447504166
                        ],
                        "iteration": 430,
                        "passed_time": 6.745117683,
                        "remaining_time": 1.079844826,
                        "test": [
                          0.9750712816,
                          0.1594583944
                        ]
                      },
                      {
                        "learn": [
                          0.1447050546
                        ],
                        "iteration": 431,
                        "passed_time": 6.76059331,
                        "remaining_time": 1.064167465,
                        "test": [
                          0.9750629542,
                          0.1594826934
                        ]
                      },
                      {
                        "learn": [
                          0.1446636928
                        ],
                        "iteration": 432,
                        "passed_time": 6.776005176,
                        "remaining_time": 1.04848117,
                        "test": [
                          0.97506694,
                          0.1594854882
                        ]
                      },
                      {
                        "learn": [
                          0.1446332618
                        ],
                        "iteration": 433,
                        "passed_time": 6.790072818,
                        "remaining_time": 1.032591719,
                        "test": [
                          0.9750796803,
                          0.1594565185
                        ]
                      },
                      {
                        "learn": [
                          0.1445802782
                        ],
                        "iteration": 434,
                        "passed_time": 6.80442104,
                        "remaining_time": 1.016752569,
                        "test": [
                          0.9750788262,
                          0.1594556605
                        ]
                      },
                      {
                        "learn": [
                          0.144502055
                        ],
                        "iteration": 435,
                        "passed_time": 6.819941069,
                        "remaining_time": 1.001092267,
                        "test": [
                          0.9750942,
                          0.1593975505
                        ]
                      },
                      {
                        "learn": [
                          0.1444546733
                        ],
                        "iteration": 436,
                        "passed_time": 6.834785631,
                        "remaining_time": 0.9853352283,
                        "test": [
                          0.97509178,
                          0.1594121509
                        ]
                      },
                      {
                        "learn": [
                          0.144419157
                        ],
                        "iteration": 437,
                        "passed_time": 6.849215385,
                        "remaining_time": 0.969523639,
                        "test": [
                          0.9750961217,
                          0.1593904401
                        ]
                      },
                      {
                        "learn": [
                          0.1443562402
                        ],
                        "iteration": 438,
                        "passed_time": 6.864486965,
                        "remaining_time": 0.9538353186,
                        "test": [
                          0.9751163353,
                          0.159338411
                        ]
                      },
                      {
                        "learn": [
                          0.1442686217
                        ],
                        "iteration": 439,
                        "passed_time": 6.879199415,
                        "remaining_time": 0.9380726474,
                        "test": [
                          0.9751549833,
                          0.1592320855
                        ]
                      },
                      {
                        "learn": [
                          0.1441450643
                        ],
                        "iteration": 440,
                        "passed_time": 6.894621071,
                        "remaining_time": 0.9224096217,
                        "test": [
                          0.9751887914,
                          0.1591449372
                        ]
                      },
                      {
                        "learn": [
                          0.1441103174
                        ],
                        "iteration": 441,
                        "passed_time": 6.91757862,
                        "remaining_time": 0.907736561,
                        "test": [
                          0.975200037,
                          0.1591317509
                        ]
                      },
                      {
                        "learn": [
                          0.1439668978
                        ],
                        "iteration": 442,
                        "passed_time": 6.933774306,
                        "remaining_time": 0.8921560619,
                        "test": [
                          0.9752473683,
                          0.1590073385
                        ]
                      },
                      {
                        "learn": [
                          0.1439342557
                        ],
                        "iteration": 443,
                        "passed_time": 6.949909027,
                        "remaining_time": 0.8765651025,
                        "test": [
                          0.9752453754,
                          0.1590134647
                        ]
                      },
                      {
                        "learn": [
                          0.1438759158
                        ],
                        "iteration": 444,
                        "passed_time": 6.964655072,
                        "remaining_time": 0.860800065,
                        "test": [
                          0.9752479377,
                          0.1589961519
                        ]
                      },
                      {
                        "learn": [
                          0.1437880719
                        ],
                        "iteration": 445,
                        "passed_time": 6.979700023,
                        "remaining_time": 0.8450757876,
                        "test": [
                          0.9752514253,
                          0.1589211436
                        ]
                      },
                      {
                        "learn": [
                          0.1436956141
                        ],
                        "iteration": 446,
                        "passed_time": 6.994211346,
                        "remaining_time": 0.8292912781,
                        "test": [
                          0.9752561228,
                          0.1588849474
                        ]
                      },
                      {
                        "learn": [
                          0.1436002581
                        ],
                        "iteration": 447,
                        "passed_time": 7.009102959,
                        "remaining_time": 0.8135565934,
                        "test": [
                          0.9752778312,
                          0.1588128452
                        ]
                      },
                      {
                        "learn": [
                          0.1435280832
                        ],
                        "iteration": 448,
                        "passed_time": 7.035291391,
                        "remaining_time": 0.7991088217,
                        "test": [
                          0.9753067993,
                          0.1587424689
                        ]
                      },
                      {
                        "learn": [
                          0.1434171269
                        ],
                        "iteration": 449,
                        "passed_time": 7.052477734,
                        "remaining_time": 0.7836086371,
                        "test": [
                          0.9753384722,
                          0.1586668143
                        ]
                      },
                      {
                        "learn": [
                          0.1434066348
                        ],
                        "iteration": 450,
                        "passed_time": 7.066611351,
                        "remaining_time": 0.7677693042,
                        "test": [
                          0.9753350558,
                          0.158674881
                        ]
                      },
                      {
                        "learn": [
                          0.1433875805
                        ],
                        "iteration": 451,
                        "passed_time": 7.080709841,
                        "remaining_time": 0.7519337884,
                        "test": [
                          0.9753406074,
                          0.1586673777
                        ]
                      },
                      {
                        "learn": [
                          0.1433296702
                        ],
                        "iteration": 452,
                        "passed_time": 7.09657766,
                        "remaining_time": 0.7362895144,
                        "test": [
                          0.9753405362,
                          0.1586646118
                        ]
                      },
                      {
                        "learn": [
                          0.1432725008
                        ],
                        "iteration": 453,
                        "passed_time": 7.110814296,
                        "remaining_time": 0.7204789816,
                        "test": [
                          0.9753538459,
                          0.1586238008
                        ]
                      },
                      {
                        "learn": [
                          0.1431876774
                        ],
                        "iteration": 454,
                        "passed_time": 7.126136433,
                        "remaining_time": 0.7047827242,
                        "test": [
                          0.9753651627,
                          0.1585815462
                        ]
                      },
                      {
                        "learn": [
                          0.143155544
                        ],
                        "iteration": 455,
                        "passed_time": 7.141837,
                        "remaining_time": 0.6891246228,
                        "test": [
                          0.975362031,
                          0.1585836038
                        ]
                      },
                      {
                        "learn": [
                          0.1430982019
                        ],
                        "iteration": 456,
                        "passed_time": 7.157371701,
                        "remaining_time": 0.673450729,
                        "test": [
                          0.9753736326,
                          0.1585418533
                        ]
                      },
                      {
                        "learn": [
                          0.1430375607
                        ],
                        "iteration": 457,
                        "passed_time": 7.170935674,
                        "remaining_time": 0.6575967212,
                        "test": [
                          0.9754029566,
                          0.1584643806
                        ]
                      },
                      {
                        "learn": [
                          0.1429746887
                        ],
                        "iteration": 458,
                        "passed_time": 7.185822704,
                        "remaining_time": 0.6418708733,
                        "test": [
                          0.975426729,
                          0.1583999789
                        ]
                      },
                      {
                        "learn": [
                          0.1429186985
                        ],
                        "iteration": 459,
                        "passed_time": 7.201073148,
                        "remaining_time": 0.6261802737,
                        "test": [
                          0.9754470139,
                          0.1583600491
                        ]
                      },
                      {
                        "learn": [
                          0.1428997362
                        ],
                        "iteration": 460,
                        "passed_time": 7.215702397,
                        "remaining_time": 0.6104390315,
                        "test": [
                          0.9754547719,
                          0.158336645
                        ]
                      },
                      {
                        "learn": [
                          0.1428533878
                        ],
                        "iteration": 461,
                        "passed_time": 7.231060838,
                        "remaining_time": 0.5947625797,
                        "test": [
                          0.9754482238,
                          0.1583474562
                        ]
                      },
                      {
                        "learn": [
                          0.1427884399
                        ],
                        "iteration": 462,
                        "passed_time": 7.244869101,
                        "remaining_time": 0.5789636215,
                        "test": [
                          0.9754551278,
                          0.1583296289
                        ]
                      },
                      {
                        "learn": [
                          0.1427302748
                        ],
                        "iteration": 463,
                        "passed_time": 7.259668917,
                        "remaining_time": 0.5632501746,
                        "test": [
                          0.9754621029,
                          0.1582971579
                        ]
                      },
                      {
                        "learn": [
                          0.1426914273
                        ],
                        "iteration": 464,
                        "passed_time": 7.273614889,
                        "remaining_time": 0.5474763895,
                        "test": [
                          0.9754596118,
                          0.158293614
                        ]
                      },
                      {
                        "learn": [
                          0.1426280704
                        ],
                        "iteration": 465,
                        "passed_time": 7.287831484,
                        "remaining_time": 0.5317301941,
                        "test": [
                          0.97546374,
                          0.1582544227
                        ]
                      },
                      {
                        "learn": [
                          0.1425540388
                        ],
                        "iteration": 466,
                        "passed_time": 7.304208171,
                        "remaining_time": 0.5161431898,
                        "test": [
                          0.9754858753,
                          0.1582060424
                        ]
                      },
                      {
                        "learn": [
                          0.142515653
                        ],
                        "iteration": 467,
                        "passed_time": 7.319246142,
                        "remaining_time": 0.5004612747,
                        "test": [
                          0.9754865159,
                          0.1582002177
                        ]
                      },
                      {
                        "learn": [
                          0.1424566316
                        ],
                        "iteration": 468,
                        "passed_time": 7.334489026,
                        "remaining_time": 0.4847956499,
                        "test": [
                          0.9754996121,
                          0.1581680075
                        ]
                      },
                      {
                        "learn": [
                          0.1424524516
                        ],
                        "iteration": 469,
                        "passed_time": 7.347921218,
                        "remaining_time": 0.469016248,
                        "test": [
                          0.9755004662,
                          0.1581667393
                        ]
                      },
                      {
                        "learn": [
                          0.1424042101
                        ],
                        "iteration": 470,
                        "passed_time": 7.364440964,
                        "remaining_time": 0.4534369171,
                        "test": [
                          0.9755172635,
                          0.1581295593
                        ]
                      },
                      {
                        "learn": [
                          0.1423792503
                        ],
                        "iteration": 471,
                        "passed_time": 7.377861157,
                        "remaining_time": 0.4376697296,
                        "test": [
                          0.9755220322,
                          0.1581126651
                        ]
                      },
                      {
                        "learn": [
                          0.142338685
                        ],
                        "iteration": 472,
                        "passed_time": 7.392646892,
                        "remaining_time": 0.4219904146,
                        "test": [
                          0.9755332778,
                          0.1580839147
                        ]
                      },
                      {
                        "learn": [
                          0.1422998604
                        ],
                        "iteration": 473,
                        "passed_time": 7.407201505,
                        "remaining_time": 0.4063021923,
                        "test": [
                          0.975553278,
                          0.1580343808
                        ]
                      },
                      {
                        "learn": [
                          0.142195741
                        ],
                        "iteration": 474,
                        "passed_time": 7.422503809,
                        "remaining_time": 0.3906580952,
                        "test": [
                          0.9755964099,
                          0.157931383
                        ]
                      },
                      {
                        "learn": [
                          0.1421625632
                        ],
                        "iteration": 475,
                        "passed_time": 7.438080501,
                        "remaining_time": 0.375029269,
                        "test": [
                          0.9756003246,
                          0.157931342
                        ]
                      },
                      {
                        "learn": [
                          0.142063238
                        ],
                        "iteration": 476,
                        "passed_time": 7.451851485,
                        "remaining_time": 0.3593135936,
                        "test": [
                          0.9756132784,
                          0.157886063
                        ]
                      },
                      {
                        "learn": [
                          0.1420445752
                        ],
                        "iteration": 477,
                        "passed_time": 7.466685384,
                        "remaining_time": 0.3436549758,
                        "test": [
                          0.9756156983,
                          0.1578788214
                        ]
                      },
                      {
                        "learn": [
                          0.1419525252
                        ],
                        "iteration": 478,
                        "passed_time": 7.481117019,
                        "remaining_time": 0.3279821657,
                        "test": [
                          0.9756365526,
                          0.1578356312
                        ]
                      },
                      {
                        "learn": [
                          0.1418394107
                        ],
                        "iteration": 479,
                        "passed_time": 7.496663459,
                        "remaining_time": 0.3123609775,
                        "test": [
                          0.9756889373,
                          0.157700138
                        ]
                      },
                      {
                        "learn": [
                          0.1417513255
                        ],
                        "iteration": 480,
                        "passed_time": 7.510901752,
                        "remaining_time": 0.2966884268,
                        "test": [
                          0.975677834,
                          0.1577279823
                        ]
                      },
                      {
                        "learn": [
                          0.1417255737
                        ],
                        "iteration": 481,
                        "passed_time": 7.5247529,
                        "remaining_time": 0.2810073697,
                        "test": [
                          0.9756756988,
                          0.1577396364
                        ]
                      },
                      {
                        "learn": [
                          0.1416915141
                        ],
                        "iteration": 482,
                        "passed_time": 7.540812464,
                        "remaining_time": 0.2654116188,
                        "test": [
                          0.9756819621,
                          0.1577286004
                        ]
                      },
                      {
                        "learn": [
                          0.1416484784
                        ],
                        "iteration": 483,
                        "passed_time": 7.556660666,
                        "remaining_time": 0.2498069642,
                        "test": [
                          0.9756771934,
                          0.1577298364
                        ]
                      },
                      {
                        "learn": [
                          0.1415879924
                        ],
                        "iteration": 484,
                        "passed_time": 7.571286445,
                        "remaining_time": 0.2341634983,
                        "test": [
                          0.9756776205,
                          0.1577355847
                        ]
                      },
                      {
                        "learn": [
                          0.1415363609
                        ],
                        "iteration": 485,
                        "passed_time": 7.585874592,
                        "remaining_time": 0.2185231364,
                        "test": [
                          0.9756981188,
                          0.1576986212
                        ]
                      },
                      {
                        "learn": [
                          0.1415028318
                        ],
                        "iteration": 486,
                        "passed_time": 7.602278241,
                        "remaining_time": 0.2029355588,
                        "test": [
                          0.9757053075,
                          0.1576763496
                        ]
                      },
                      {
                        "learn": [
                          0.1414007229
                        ],
                        "iteration": 487,
                        "passed_time": 7.618617646,
                        "remaining_time": 0.1873430569,
                        "test": [
                          0.9757566958,
                          0.1575522327
                        ]
                      },
                      {
                        "learn": [
                          0.1413952552
                        ],
                        "iteration": 488,
                        "passed_time": 7.633129166,
                        "remaining_time": 0.1717063821,
                        "test": [
                          0.9757574787,
                          0.1575486376
                        ]
                      },
                      {
                        "learn": [
                          0.1413442459
                        ],
                        "iteration": 489,
                        "passed_time": 7.648206637,
                        "remaining_time": 0.1560858497,
                        "test": [
                          0.9757546317,
                          0.1575344043
                        ]
                      },
                      {
                        "learn": [
                          0.1413401833
                        ],
                        "iteration": 490,
                        "passed_time": 7.661201253,
                        "remaining_time": 0.1404293509,
                        "test": [
                          0.9757551299,
                          0.1575354295
                        ]
                      },
                      {
                        "learn": [
                          0.1412697905
                        ],
                        "iteration": 491,
                        "passed_time": 7.677216532,
                        "remaining_time": 0.1248327891,
                        "test": [
                          0.9757534217,
                          0.1575174917
                        ]
                      },
                      {
                        "learn": [
                          0.1412256635
                        ],
                        "iteration": 492,
                        "passed_time": 7.691968854,
                        "remaining_time": 0.1092165963,
                        "test": [
                          0.9757608239,
                          0.1575012169
                        ]
                      },
                      {
                        "learn": [
                          0.1411511867
                        ],
                        "iteration": 493,
                        "passed_time": 7.70767112,
                        "remaining_time": 0.09361543871,
                        "test": [
                          0.9757688667,
                          0.1574788318
                        ]
                      },
                      {
                        "learn": [
                          0.1410974426
                        ],
                        "iteration": 494,
                        "passed_time": 7.721925263,
                        "remaining_time": 0.07799924509,
                        "test": [
                          0.9757906462,
                          0.1574305256
                        ]
                      },
                      {
                        "learn": [
                          0.1410117918
                        ],
                        "iteration": 495,
                        "passed_time": 7.736598138,
                        "remaining_time": 0.06239192047,
                        "test": [
                          0.9758156998,
                          0.1573860244
                        ]
                      },
                      {
                        "learn": [
                          0.1409629284
                        ],
                        "iteration": 496,
                        "passed_time": 7.750749182,
                        "remaining_time": 0.04678520633,
                        "test": [
                          0.9758096499,
                          0.1574166518
                        ]
                      },
                      {
                        "learn": [
                          0.1409183428
                        ],
                        "iteration": 497,
                        "passed_time": 7.765260261,
                        "remaining_time": 0.03118578418,
                        "test": [
                          0.9758147745,
                          0.1574100502
                        ]
                      },
                      {
                        "learn": [
                          0.140887512
                        ],
                        "iteration": 498,
                        "passed_time": 7.779040572,
                        "remaining_time": 0.01558925966,
                        "test": [
                          0.9758070164,
                          0.1574172425
                        ]
                      },
                      {
                        "learn": [
                          0.1408233222
                        ],
                        "iteration": 499,
                        "passed_time": 7.793625052,
                        "remaining_time": 0,
                        "test": [
                          0.9758053082,
                          0.1574220878
                        ]
                      }
                    ],
                    "meta": {
                      "test_sets": [
                        "test"
                      ],
                      "test_metrics": [
                        {
                          "best_value": "Max",
                          "name": "AUC"
                        },
                        {
                          "best_value": "Min",
                          "name": "Logloss"
                        }
                      ],
                      "learn_metrics": [
                        {
                          "best_value": "Min",
                          "name": "Logloss"
                        }
                      ],
                      "launch_mode": "Train",
                      "parameters": "",
                      "iteration_count": 500,
                      "learn_sets": [
                        "learn"
                      ],
                      "name": "experiment"
                    }
                  }
                }
              }
            },
            "layout": "IPY_MODEL_46c9ef8e0e4c44ba83ebd55c6ea3c616"
          }
        }
      }
    }
  },
  "nbformat": 4,
  "nbformat_minor": 5
}